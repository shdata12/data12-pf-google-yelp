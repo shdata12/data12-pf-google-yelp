{
 "cells": [
  {
   "cell_type": "markdown",
   "metadata": {},
   "source": [
    "### Generando Yelp users"
   ]
  },
  {
   "cell_type": "code",
   "execution_count": 1,
   "metadata": {},
   "outputs": [],
   "source": [
    "import os\n",
    "import pandas as pd\n",
    "from datetime import datetime"
   ]
  },
  {
   "cell_type": "code",
   "execution_count": 2,
   "metadata": {},
   "outputs": [],
   "source": [
    "df_user_Yelp = pd.read_parquet(os.path.join(os.getcwd(), '..', 'datasets', 'originals', 'Yelp', 'user.parquet'), engine='pyarrow')"
   ]
  },
  {
   "cell_type": "code",
   "execution_count": 3,
   "metadata": {},
   "outputs": [
    {
     "name": "stdout",
     "output_type": "stream",
     "text": [
      "<class 'pandas.core.frame.DataFrame'>\n",
      "RangeIndex: 2105597 entries, 0 to 2105596\n",
      "Data columns (total 22 columns):\n",
      " #   Column              Dtype  \n",
      "---  ------              -----  \n",
      " 0   user_id             object \n",
      " 1   name                object \n",
      " 2   review_count        int64  \n",
      " 3   yelping_since       object \n",
      " 4   useful              int64  \n",
      " 5   funny               int64  \n",
      " 6   cool                int64  \n",
      " 7   elite               object \n",
      " 8   friends             object \n",
      " 9   fans                int64  \n",
      " 10  average_stars       float64\n",
      " 11  compliment_hot      int64  \n",
      " 12  compliment_more     int64  \n",
      " 13  compliment_profile  int64  \n",
      " 14  compliment_cute     int64  \n",
      " 15  compliment_list     int64  \n",
      " 16  compliment_note     int64  \n",
      " 17  compliment_plain    int64  \n",
      " 18  compliment_cool     int64  \n",
      " 19  compliment_funny    int64  \n",
      " 20  compliment_writer   int64  \n",
      " 21  compliment_photos   int64  \n",
      "dtypes: float64(1), int64(16), object(5)\n",
      "memory usage: 353.4+ MB\n"
     ]
    }
   ],
   "source": [
    "df_user_Yelp.info()"
   ]
  },
  {
   "cell_type": "code",
   "execution_count": 8,
   "metadata": {},
   "outputs": [
    {
     "data": {
      "text/html": [
       "<div>\n",
       "<style scoped>\n",
       "    .dataframe tbody tr th:only-of-type {\n",
       "        vertical-align: middle;\n",
       "    }\n",
       "\n",
       "    .dataframe tbody tr th {\n",
       "        vertical-align: top;\n",
       "    }\n",
       "\n",
       "    .dataframe thead th {\n",
       "        text-align: right;\n",
       "    }\n",
       "</style>\n",
       "<table border=\"1\" class=\"dataframe\">\n",
       "  <thead>\n",
       "    <tr style=\"text-align: right;\">\n",
       "      <th></th>\n",
       "      <th>user_id</th>\n",
       "      <th>name</th>\n",
       "      <th>review_count</th>\n",
       "      <th>yelping_since</th>\n",
       "      <th>useful</th>\n",
       "      <th>funny</th>\n",
       "      <th>cool</th>\n",
       "      <th>elite</th>\n",
       "      <th>friends</th>\n",
       "      <th>fans</th>\n",
       "      <th>...</th>\n",
       "      <th>compliment_more</th>\n",
       "      <th>compliment_profile</th>\n",
       "      <th>compliment_cute</th>\n",
       "      <th>compliment_list</th>\n",
       "      <th>compliment_note</th>\n",
       "      <th>compliment_plain</th>\n",
       "      <th>compliment_cool</th>\n",
       "      <th>compliment_funny</th>\n",
       "      <th>compliment_writer</th>\n",
       "      <th>compliment_photos</th>\n",
       "    </tr>\n",
       "  </thead>\n",
       "  <tbody>\n",
       "    <tr>\n",
       "      <th>0</th>\n",
       "      <td>qVc8ODYU5SZjKXVBgXdI7w</td>\n",
       "      <td>Walker</td>\n",
       "      <td>585</td>\n",
       "      <td>2007-01-25 16:47:26</td>\n",
       "      <td>7217</td>\n",
       "      <td>1259</td>\n",
       "      <td>5994</td>\n",
       "      <td>2007</td>\n",
       "      <td>NSCy54eWehBJyZdG2iE84w, pe42u7DcCH2QmI81NX-8qA...</td>\n",
       "      <td>267</td>\n",
       "      <td>...</td>\n",
       "      <td>65</td>\n",
       "      <td>55</td>\n",
       "      <td>56</td>\n",
       "      <td>18</td>\n",
       "      <td>232</td>\n",
       "      <td>844</td>\n",
       "      <td>467</td>\n",
       "      <td>467</td>\n",
       "      <td>239</td>\n",
       "      <td>180</td>\n",
       "    </tr>\n",
       "    <tr>\n",
       "      <th>1</th>\n",
       "      <td>j14WgRoU_-2ZE1aw1dXrJg</td>\n",
       "      <td>Daniel</td>\n",
       "      <td>4333</td>\n",
       "      <td>2009-01-25 04:35:42</td>\n",
       "      <td>43091</td>\n",
       "      <td>13066</td>\n",
       "      <td>27281</td>\n",
       "      <td>2009,2010,2011,2012,2013,2014,2015,2016,2017,2...</td>\n",
       "      <td>ueRPE0CX75ePGMqOFVj6IQ, 52oH4DrRvzzl8wh5UXyU0A...</td>\n",
       "      <td>3138</td>\n",
       "      <td>...</td>\n",
       "      <td>264</td>\n",
       "      <td>184</td>\n",
       "      <td>157</td>\n",
       "      <td>251</td>\n",
       "      <td>1847</td>\n",
       "      <td>7054</td>\n",
       "      <td>3131</td>\n",
       "      <td>3131</td>\n",
       "      <td>1521</td>\n",
       "      <td>1946</td>\n",
       "    </tr>\n",
       "    <tr>\n",
       "      <th>2</th>\n",
       "      <td>2WnXYQFK0hXEoTxPtV2zvg</td>\n",
       "      <td>Steph</td>\n",
       "      <td>665</td>\n",
       "      <td>2008-07-25 10:41:00</td>\n",
       "      <td>2086</td>\n",
       "      <td>1010</td>\n",
       "      <td>1003</td>\n",
       "      <td>2009,2010,2011,2012,2013</td>\n",
       "      <td>LuO3Bn4f3rlhyHIaNfTlnA, j9B4XdHUhDfTKVecyWQgyA...</td>\n",
       "      <td>52</td>\n",
       "      <td>...</td>\n",
       "      <td>13</td>\n",
       "      <td>10</td>\n",
       "      <td>17</td>\n",
       "      <td>3</td>\n",
       "      <td>66</td>\n",
       "      <td>96</td>\n",
       "      <td>119</td>\n",
       "      <td>119</td>\n",
       "      <td>35</td>\n",
       "      <td>18</td>\n",
       "    </tr>\n",
       "    <tr>\n",
       "      <th>3</th>\n",
       "      <td>SZDeASXq7o05mMNLshsdIA</td>\n",
       "      <td>Gwen</td>\n",
       "      <td>224</td>\n",
       "      <td>2005-11-29 04:38:33</td>\n",
       "      <td>512</td>\n",
       "      <td>330</td>\n",
       "      <td>299</td>\n",
       "      <td>2009,2010,2011</td>\n",
       "      <td>enx1vVPnfdNUdPho6PH_wg, 4wOcvMLtU6a9Lslggq74Vg...</td>\n",
       "      <td>28</td>\n",
       "      <td>...</td>\n",
       "      <td>4</td>\n",
       "      <td>1</td>\n",
       "      <td>6</td>\n",
       "      <td>2</td>\n",
       "      <td>12</td>\n",
       "      <td>16</td>\n",
       "      <td>26</td>\n",
       "      <td>26</td>\n",
       "      <td>10</td>\n",
       "      <td>9</td>\n",
       "    </tr>\n",
       "    <tr>\n",
       "      <th>4</th>\n",
       "      <td>hA5lMy-EnncsH4JoR-hFGQ</td>\n",
       "      <td>Karen</td>\n",
       "      <td>79</td>\n",
       "      <td>2007-01-05 19:40:59</td>\n",
       "      <td>29</td>\n",
       "      <td>15</td>\n",
       "      <td>7</td>\n",
       "      <td></td>\n",
       "      <td>PBK4q9KEEBHhFvSXCUirIw, 3FWPpM7KU1gXeOM_ZbYMbA...</td>\n",
       "      <td>1</td>\n",
       "      <td>...</td>\n",
       "      <td>1</td>\n",
       "      <td>0</td>\n",
       "      <td>0</td>\n",
       "      <td>0</td>\n",
       "      <td>1</td>\n",
       "      <td>1</td>\n",
       "      <td>0</td>\n",
       "      <td>0</td>\n",
       "      <td>0</td>\n",
       "      <td>0</td>\n",
       "    </tr>\n",
       "  </tbody>\n",
       "</table>\n",
       "<p>5 rows × 22 columns</p>\n",
       "</div>"
      ],
      "text/plain": [
       "                  user_id    name  review_count        yelping_since  useful  \\\n",
       "0  qVc8ODYU5SZjKXVBgXdI7w  Walker           585  2007-01-25 16:47:26    7217   \n",
       "1  j14WgRoU_-2ZE1aw1dXrJg  Daniel          4333  2009-01-25 04:35:42   43091   \n",
       "2  2WnXYQFK0hXEoTxPtV2zvg   Steph           665  2008-07-25 10:41:00    2086   \n",
       "3  SZDeASXq7o05mMNLshsdIA    Gwen           224  2005-11-29 04:38:33     512   \n",
       "4  hA5lMy-EnncsH4JoR-hFGQ   Karen            79  2007-01-05 19:40:59      29   \n",
       "\n",
       "   funny   cool                                              elite  \\\n",
       "0   1259   5994                                               2007   \n",
       "1  13066  27281  2009,2010,2011,2012,2013,2014,2015,2016,2017,2...   \n",
       "2   1010   1003                           2009,2010,2011,2012,2013   \n",
       "3    330    299                                     2009,2010,2011   \n",
       "4     15      7                                                      \n",
       "\n",
       "                                             friends  fans  ...  \\\n",
       "0  NSCy54eWehBJyZdG2iE84w, pe42u7DcCH2QmI81NX-8qA...   267  ...   \n",
       "1  ueRPE0CX75ePGMqOFVj6IQ, 52oH4DrRvzzl8wh5UXyU0A...  3138  ...   \n",
       "2  LuO3Bn4f3rlhyHIaNfTlnA, j9B4XdHUhDfTKVecyWQgyA...    52  ...   \n",
       "3  enx1vVPnfdNUdPho6PH_wg, 4wOcvMLtU6a9Lslggq74Vg...    28  ...   \n",
       "4  PBK4q9KEEBHhFvSXCUirIw, 3FWPpM7KU1gXeOM_ZbYMbA...     1  ...   \n",
       "\n",
       "   compliment_more  compliment_profile  compliment_cute  compliment_list  \\\n",
       "0               65                  55               56               18   \n",
       "1              264                 184              157              251   \n",
       "2               13                  10               17                3   \n",
       "3                4                   1                6                2   \n",
       "4                1                   0                0                0   \n",
       "\n",
       "   compliment_note  compliment_plain  compliment_cool  compliment_funny  \\\n",
       "0              232               844              467               467   \n",
       "1             1847              7054             3131              3131   \n",
       "2               66                96              119               119   \n",
       "3               12                16               26                26   \n",
       "4                1                 1                0                 0   \n",
       "\n",
       "   compliment_writer  compliment_photos  \n",
       "0                239                180  \n",
       "1               1521               1946  \n",
       "2                 35                 18  \n",
       "3                 10                  9  \n",
       "4                  0                  0  \n",
       "\n",
       "[5 rows x 22 columns]"
      ]
     },
     "execution_count": 8,
     "metadata": {},
     "output_type": "execute_result"
    }
   ],
   "source": [
    "df_user_Yelp.head()"
   ]
  },
  {
   "cell_type": "code",
   "execution_count": 9,
   "metadata": {},
   "outputs": [
    {
     "name": "stdout",
     "output_type": "stream",
     "text": [
      "<class 'pandas.core.frame.DataFrame'>\n",
      "RangeIndex: 2105597 entries, 0 to 2105596\n",
      "Data columns (total 22 columns):\n",
      " #   Column              Dtype  \n",
      "---  ------              -----  \n",
      " 0   user_id             object \n",
      " 1   name                object \n",
      " 2   review_count        int64  \n",
      " 3   yelping_since       object \n",
      " 4   useful              int64  \n",
      " 5   funny               int64  \n",
      " 6   cool                int64  \n",
      " 7   elite               object \n",
      " 8   friends             object \n",
      " 9   fans                int64  \n",
      " 10  average_stars       float64\n",
      " 11  compliment_hot      int64  \n",
      " 12  compliment_more     int64  \n",
      " 13  compliment_profile  int64  \n",
      " 14  compliment_cute     int64  \n",
      " 15  compliment_list     int64  \n",
      " 16  compliment_note     int64  \n",
      " 17  compliment_plain    int64  \n",
      " 18  compliment_cool     int64  \n",
      " 19  compliment_funny    int64  \n",
      " 20  compliment_writer   int64  \n",
      " 21  compliment_photos   int64  \n",
      "dtypes: float64(1), int64(16), object(5)\n",
      "memory usage: 353.4+ MB\n"
     ]
    }
   ],
   "source": [
    "df_user_Yelp.info()"
   ]
  },
  {
   "cell_type": "markdown",
   "metadata": {},
   "source": [
    "Unificamos las columnas 'useful', 'funny' y 'cool' en una sola con nombre 'votes'."
   ]
  },
  {
   "cell_type": "code",
   "execution_count": 10,
   "metadata": {},
   "outputs": [],
   "source": [
    "df_user_Yelp['votes'] = df_user_Yelp['useful'] + df_user_Yelp['funny'] + df_user_Yelp['cool']"
   ]
  },
  {
   "cell_type": "markdown",
   "metadata": {},
   "source": [
    "Eliminamos columnas no contempladas en nuestro DER."
   ]
  },
  {
   "cell_type": "code",
   "execution_count": 11,
   "metadata": {},
   "outputs": [
    {
     "data": {
      "text/plain": [
       "Index(['user_id', 'name', 'review_count', 'yelping_since', 'useful', 'funny',\n",
       "       'cool', 'elite', 'friends', 'fans', 'average_stars', 'compliment_hot',\n",
       "       'compliment_more', 'compliment_profile', 'compliment_cute',\n",
       "       'compliment_list', 'compliment_note', 'compliment_plain',\n",
       "       'compliment_cool', 'compliment_funny', 'compliment_writer',\n",
       "       'compliment_photos', 'votes'],\n",
       "      dtype='object')"
      ]
     },
     "execution_count": 11,
     "metadata": {},
     "output_type": "execute_result"
    }
   ],
   "source": [
    "df_user_Yelp.columns"
   ]
  },
  {
   "cell_type": "code",
   "execution_count": 12,
   "metadata": {},
   "outputs": [],
   "source": [
    "df_user_Yelp_rd = df_user_Yelp.drop(columns=['review_count', 'yelping_since', 'useful', 'funny','cool', \n",
    "                                             'elite', 'friends', 'average_stars', \n",
    "                                             'compliment_hot', 'compliment_more', 'compliment_profile', \n",
    "                                             'compliment_cute', 'compliment_list', 'compliment_note', \n",
    "                                             'compliment_plain', 'compliment_cool', 'compliment_funny', \n",
    "                                             'compliment_writer', 'compliment_photos'])"
   ]
  },
  {
   "cell_type": "markdown",
   "metadata": {},
   "source": [
    "### ******************************************"
   ]
  },
  {
   "cell_type": "markdown",
   "metadata": {},
   "source": [
    "A continuación se realizan algunas transformaciones tomando la información que hay en común con el archivo 'business_final_csv' que contiene sólo la información de los 3 estados de interés (FL, NV y CA).<br>\n",
    "Primero uno 'Yelp_reviews' con 'business_final' para reducir el número de reviews, dejando sólo los que corresponden a los business de los estados mencionados"
   ]
  },
  {
   "cell_type": "code",
   "execution_count": 16,
   "metadata": {},
   "outputs": [],
   "source": [
    "#df_review_Yelp = pd.read_csv('datasets/Yelp_reviews.csv')\n",
    "df_review_Yelp = pd.read_csv(os.path.join(os.getcwd(), '..', 'datasets', 'Yelp_reviews.csv'))"
   ]
  },
  {
   "cell_type": "code",
   "execution_count": 8,
   "metadata": {},
   "outputs": [],
   "source": [
    "#df_business = pd.read_csv(\"Yelp datasets/Yelp_business.csv\")\n",
    "df_review_Yelp = pd.read_csv(os.path.join(os.getcwd(), '..', 'datasets', 'Yelp_reviews.csv')) "
   ]
  },
  {
   "cell_type": "code",
   "execution_count": 9,
   "metadata": {},
   "outputs": [],
   "source": [
    "# Antes del merge, asegurémonos de que las columnas 'business_id' estén en un formato consistente\n",
    "df_review_Yelp['business_id'] = df_review_Yelp['business_id'].str.strip()\n",
    "df_business['business_id'] = df_business['business_id'].str.strip()\n",
    "\n",
    "# Realizar el merge basado en la columna \"business_id\"\n",
    "merged_df = df_review_Yelp.merge(df_business[['business_id']], on='business_id', how='inner')\n",
    "\n",
    "# Seleccionar las columnas necesarias en el DataFrame resultante\n",
    "columns_to_keep = ['review_id', 'user_id', 'business_id', 'stars', 'useful', 'funny', 'cool', 'text', 'date']\n",
    "df_review_Yelp_final = merged_df[columns_to_keep]\n",
    "\n",
    "# Ahora, df_review_Yelp_final contendrá solo las filas de df_review_Yelp que tienen \"business_id\" presente en df_business,\n",
    "# y solo las columnas seleccionadas."
   ]
  },
  {
   "cell_type": "markdown",
   "metadata": {},
   "source": [
    "Lo mismo se realiza con 'Yelp_users' para que contenga sólo la información de los 'user_id' presentes en 'review_Yelp_final'"
   ]
  },
  {
   "cell_type": "code",
   "execution_count": 14,
   "metadata": {},
   "outputs": [],
   "source": [
    "# Realizar la fusión (merge) basada en la columna 'user_id'\n",
    "df_user_Yelp_filt = df_user_Yelp_rd[df_user_Yelp_rd['user_id'].isin(df_review_Yelp_final['user_id'])]\n",
    "\n",
    "# Ahora, df_user_Yelp_filt contendrá solo las filas de df_user_Yelp con los 'user_id' presentes en df_review_Yelp_final.\n"
   ]
  },
  {
   "cell_type": "markdown",
   "metadata": {},
   "source": [
    "### ******************************************"
   ]
  },
  {
   "cell_type": "markdown",
   "metadata": {},
   "source": [
    "Reseteo de índices y eliminación de duplicados."
   ]
  },
  {
   "cell_type": "code",
   "execution_count": 8,
   "metadata": {},
   "outputs": [],
   "source": [
    "df_user_Yelp_rd.reset_index(drop=True, inplace=True)\n",
    "df_user_Yelp_rd.drop_duplicates(subset=['user_id'], inplace=True)"
   ]
  },
  {
   "cell_type": "code",
   "execution_count": 9,
   "metadata": {},
   "outputs": [
    {
     "data": {
      "text/plain": [
       "(1987897, 4)"
      ]
     },
     "execution_count": 9,
     "metadata": {},
     "output_type": "execute_result"
    }
   ],
   "source": [
    "df_user_Yelp_rd.shape"
   ]
  },
  {
   "cell_type": "markdown",
   "metadata": {},
   "source": [
    "### Generando Yelp_reviews"
   ]
  },
  {
   "cell_type": "code",
   "execution_count": null,
   "metadata": {},
   "outputs": [
    {
     "data": {
      "text/html": [
       "<div>\n",
       "<style scoped>\n",
       "    .dataframe tbody tr th:only-of-type {\n",
       "        vertical-align: middle;\n",
       "    }\n",
       "\n",
       "    .dataframe tbody tr th {\n",
       "        vertical-align: top;\n",
       "    }\n",
       "\n",
       "    .dataframe thead th {\n",
       "        text-align: right;\n",
       "    }\n",
       "</style>\n",
       "<table border=\"1\" class=\"dataframe\">\n",
       "  <thead>\n",
       "    <tr style=\"text-align: right;\">\n",
       "      <th></th>\n",
       "      <th>review_id</th>\n",
       "      <th>user_id</th>\n",
       "      <th>business_id</th>\n",
       "      <th>stars</th>\n",
       "      <th>text</th>\n",
       "      <th>date</th>\n",
       "      <th>Likes</th>\n",
       "    </tr>\n",
       "  </thead>\n",
       "  <tbody>\n",
       "    <tr>\n",
       "      <th>0</th>\n",
       "      <td>_ZeMknuYdlQcUqng_Im3yg</td>\n",
       "      <td>yfFzsLmaWF2d4Sr0UNbBgg</td>\n",
       "      <td>LHSTtnW3YHCeUkRDGyJOyw</td>\n",
       "      <td>5</td>\n",
       "      <td>Amazingly amazing wings and homemade bleu chee...</td>\n",
       "      <td>2015-08-07 02:29:16</td>\n",
       "      <td>2</td>\n",
       "    </tr>\n",
       "    <tr>\n",
       "      <th>1</th>\n",
       "      <td>TP0HYy4GqYtrWMlFIhxw3A</td>\n",
       "      <td>YRsNXrlyvjnr7NLSDwen0Q</td>\n",
       "      <td>LHSTtnW3YHCeUkRDGyJOyw</td>\n",
       "      <td>1</td>\n",
       "      <td>We arrived a few minutes early for a 7pm reser...</td>\n",
       "      <td>2016-05-31 01:58:22</td>\n",
       "      <td>6</td>\n",
       "    </tr>\n",
       "    <tr>\n",
       "      <th>2</th>\n",
       "      <td>RkXe6gzU6bfut_Q2W2NpbA</td>\n",
       "      <td>jPaGpFevnH4y1BQGIe3glw</td>\n",
       "      <td>LHSTtnW3YHCeUkRDGyJOyw</td>\n",
       "      <td>5</td>\n",
       "      <td>This is one of my favorite restaurants They ha...</td>\n",
       "      <td>2017-12-02 23:28:30</td>\n",
       "      <td>0</td>\n",
       "    </tr>\n",
       "  </tbody>\n",
       "</table>\n",
       "</div>"
      ],
      "text/plain": [
       "                review_id                 user_id             business_id  \\\n",
       "0  _ZeMknuYdlQcUqng_Im3yg  yfFzsLmaWF2d4Sr0UNbBgg  LHSTtnW3YHCeUkRDGyJOyw   \n",
       "1  TP0HYy4GqYtrWMlFIhxw3A  YRsNXrlyvjnr7NLSDwen0Q  LHSTtnW3YHCeUkRDGyJOyw   \n",
       "2  RkXe6gzU6bfut_Q2W2NpbA  jPaGpFevnH4y1BQGIe3glw  LHSTtnW3YHCeUkRDGyJOyw   \n",
       "\n",
       "   stars                                               text  \\\n",
       "0      5  Amazingly amazing wings and homemade bleu chee...   \n",
       "1      1  We arrived a few minutes early for a 7pm reser...   \n",
       "2      5  This is one of my favorite restaurants They ha...   \n",
       "\n",
       "                  date  Likes  \n",
       "0  2015-08-07 02:29:16      2  \n",
       "1  2016-05-31 01:58:22      6  \n",
       "2  2017-12-02 23:28:30      0  "
      ]
     },
     "metadata": {},
     "output_type": "display_data"
    }
   ],
   "source": [
    "# Reading Yelp reviews.\n",
    "data_yelp_reviews = pd.read_csv('Yelp datasets/Yelp_reviews.csv', sep=\";\")\n",
    "data_yelp_reviews.head(3)"
   ]
  },
  {
   "cell_type": "code",
   "execution_count": null,
   "metadata": {},
   "outputs": [],
   "source": [
    "# Interchange row 1 and 2.\n",
    "data_yelp_reviews.iloc[1], data_yelp_reviews.iloc[0] = \n",
    "                            data_yelp_reviews.iloc[0].copy(), data_yelp_reviews.iloc[1].copy()"
   ]
  },
  {
   "cell_type": "code",
   "execution_count": null,
   "metadata": {},
   "outputs": [],
   "source": [
    "# Change not string data in column 'text' to string.\n",
    "def convertir_a_string(valor):\n",
    "    if not isinstance(valor, str):\n",
    "        return str(valor)\n",
    "    return valor\n",
    "\n",
    "data_reviews_google['text'] = data_reviews_google['text'].apply(convertir_a_string)"
   ]
  },
  {
   "cell_type": "code",
   "execution_count": null,
   "metadata": {},
   "outputs": [],
   "source": [
    "# Truncate data extension in 'text' to 6000 characters.\n",
    "def truncar_texto(texto, max_longitud=6000):\n",
    "    if len(texto) > max_longitud:\n",
    "        return texto[:max_longitud]\n",
    "    return texto\n",
    "\n",
    "data_reviews_google['text'] = data_reviews_google['text'].apply(truncar_texto)"
   ]
  },
  {
   "cell_type": "code",
   "execution_count": null,
   "metadata": {},
   "outputs": [],
   "source": [
    "# Ensure string datatype in columns 'review_id', 'user_id' and 'business_id'.\n",
    "data_yelp_reviews['review_id'] = data_yelp_reviews['review_id'].astype(str)\n",
    "data_yelp_reviews['user_id'] = data_yelp_reviews['user_id'].astype(str)\n",
    "data_yelp_reviews['business_id'] = data_yelp_reviews['business_id'].astype(str)"
   ]
  },
  {
   "cell_type": "code",
   "execution_count": null,
   "metadata": {},
   "outputs": [
    {
     "name": "stdout",
     "output_type": "stream",
     "text": [
      "<class 'pandas.core.frame.DataFrame'>\n",
      "RangeIndex: 1820145 entries, 0 to 1820144\n",
      "Data columns (total 7 columns):\n",
      " #   Column       Dtype \n",
      "---  ------       ----- \n",
      " 0   review_id    object\n",
      " 1   user_id      object\n",
      " 2   business_id  object\n",
      " 3   stars        int64 \n",
      " 4   text         object\n",
      " 5   date         object\n",
      " 6   Likes        int64 \n",
      "dtypes: int64(2), object(5)\n",
      "memory usage: 97.2+ MB\n"
     ]
    }
   ],
   "source": [
    "data_yelp_reviews.info()"
   ]
  },
  {
   "cell_type": "code",
   "execution_count": null,
   "metadata": {},
   "outputs": [
    {
     "data": {
      "text/html": [
       "<div>\n",
       "<style scoped>\n",
       "    .dataframe tbody tr th:only-of-type {\n",
       "        vertical-align: middle;\n",
       "    }\n",
       "\n",
       "    .dataframe tbody tr th {\n",
       "        vertical-align: top;\n",
       "    }\n",
       "\n",
       "    .dataframe thead th {\n",
       "        text-align: right;\n",
       "    }\n",
       "</style>\n",
       "<table border=\"1\" class=\"dataframe\">\n",
       "  <thead>\n",
       "    <tr style=\"text-align: right;\">\n",
       "      <th></th>\n",
       "      <th>review_id</th>\n",
       "      <th>user_id</th>\n",
       "      <th>business_id</th>\n",
       "      <th>stars</th>\n",
       "      <th>text</th>\n",
       "      <th>date</th>\n",
       "      <th>Likes</th>\n",
       "    </tr>\n",
       "  </thead>\n",
       "  <tbody>\n",
       "    <tr>\n",
       "      <th>0</th>\n",
       "      <td>TP0HYy4GqYtrWMlFIhxw3A</td>\n",
       "      <td>YRsNXrlyvjnr7NLSDwen0Q</td>\n",
       "      <td>LHSTtnW3YHCeUkRDGyJOyw</td>\n",
       "      <td>1</td>\n",
       "      <td>We arrived a few minutes early for a 7pm reser...</td>\n",
       "      <td>2016-05-31 01:58:22</td>\n",
       "      <td>6</td>\n",
       "    </tr>\n",
       "    <tr>\n",
       "      <th>1</th>\n",
       "      <td>_ZeMknuYdlQcUqng_Im3yg</td>\n",
       "      <td>yfFzsLmaWF2d4Sr0UNbBgg</td>\n",
       "      <td>LHSTtnW3YHCeUkRDGyJOyw</td>\n",
       "      <td>5</td>\n",
       "      <td>Amazingly amazing wings and homemade bleu chee...</td>\n",
       "      <td>2015-08-07 02:29:16</td>\n",
       "      <td>2</td>\n",
       "    </tr>\n",
       "    <tr>\n",
       "      <th>2</th>\n",
       "      <td>RkXe6gzU6bfut_Q2W2NpbA</td>\n",
       "      <td>jPaGpFevnH4y1BQGIe3glw</td>\n",
       "      <td>LHSTtnW3YHCeUkRDGyJOyw</td>\n",
       "      <td>5</td>\n",
       "      <td>This is one of my favorite restaurants They ha...</td>\n",
       "      <td>2017-12-02 23:28:30</td>\n",
       "      <td>0</td>\n",
       "    </tr>\n",
       "    <tr>\n",
       "      <th>3</th>\n",
       "      <td>Wv6ty8iRgaPtqRzQXQiDaA</td>\n",
       "      <td>V0RkSHN5nckzO6oPTCp6mw</td>\n",
       "      <td>LHSTtnW3YHCeUkRDGyJOyw</td>\n",
       "      <td>4</td>\n",
       "      <td>Let me start by saying that my wife and I are ...</td>\n",
       "      <td>2018-03-23 23:22:00</td>\n",
       "      <td>0</td>\n",
       "    </tr>\n",
       "    <tr>\n",
       "      <th>4</th>\n",
       "      <td>w0cb9xwH5KSgtTpP3DcIVg</td>\n",
       "      <td>yujZWE_uZn41f5-677Gvjg</td>\n",
       "      <td>LHSTtnW3YHCeUkRDGyJOyw</td>\n",
       "      <td>4</td>\n",
       "      <td>I wrote this a while ago but never posted it f...</td>\n",
       "      <td>2016-01-30 15:55:07</td>\n",
       "      <td>1</td>\n",
       "    </tr>\n",
       "  </tbody>\n",
       "</table>\n",
       "</div>"
      ],
      "text/plain": [
       "                review_id                 user_id             business_id  \\\n",
       "0  TP0HYy4GqYtrWMlFIhxw3A  YRsNXrlyvjnr7NLSDwen0Q  LHSTtnW3YHCeUkRDGyJOyw   \n",
       "1  _ZeMknuYdlQcUqng_Im3yg  yfFzsLmaWF2d4Sr0UNbBgg  LHSTtnW3YHCeUkRDGyJOyw   \n",
       "2  RkXe6gzU6bfut_Q2W2NpbA  jPaGpFevnH4y1BQGIe3glw  LHSTtnW3YHCeUkRDGyJOyw   \n",
       "3  Wv6ty8iRgaPtqRzQXQiDaA  V0RkSHN5nckzO6oPTCp6mw  LHSTtnW3YHCeUkRDGyJOyw   \n",
       "4  w0cb9xwH5KSgtTpP3DcIVg  yujZWE_uZn41f5-677Gvjg  LHSTtnW3YHCeUkRDGyJOyw   \n",
       "\n",
       "   stars                                               text  \\\n",
       "0      1  We arrived a few minutes early for a 7pm reser...   \n",
       "1      5  Amazingly amazing wings and homemade bleu chee...   \n",
       "2      5  This is one of my favorite restaurants They ha...   \n",
       "3      4  Let me start by saying that my wife and I are ...   \n",
       "4      4  I wrote this a while ago but never posted it f...   \n",
       "\n",
       "                  date  Likes  \n",
       "0  2016-05-31 01:58:22      6  \n",
       "1  2015-08-07 02:29:16      2  \n",
       "2  2017-12-02 23:28:30      0  \n",
       "3  2018-03-23 23:22:00      0  \n",
       "4  2016-01-30 15:55:07      1  "
      ]
     },
     "metadata": {},
     "output_type": "display_data"
    }
   ],
   "source": [
    "data_yelp_reviews.head()"
   ]
  },
  {
   "cell_type": "code",
   "execution_count": null,
   "metadata": {},
   "outputs": [],
   "source": [
    "data_yelp_reviews.to_csv('Yelp datasets/Yelp_reviews.csv', sep=\";\", index=False)"
   ]
  },
  {
   "cell_type": "markdown",
   "metadata": {},
   "source": [
    "### Generando Google_reviews"
   ]
  },
  {
   "cell_type": "markdown",
   "metadata": {},
   "source": [
    "Concatenamos reviews de Google de los 3 estados elegidos:"
   ]
  },
  {
   "cell_type": "code",
   "execution_count": 22,
   "metadata": {},
   "outputs": [
    {
     "data": {
      "text/plain": [
       "(7350000, 9)"
      ]
     },
     "execution_count": 22,
     "metadata": {},
     "output_type": "execute_result"
    }
   ],
   "source": [
    "data_nevada = pd.read_csv(\"Google datasets/NV_reviews.csv\", sep=\";\")\n",
    "data_florida = pd.read_csv(\"Google datasets/FL_reviews.csv\", sep=\";\")\n",
    "data_california = pd.read_csv(\"Google datasets/CA_reviews.csv\", sep=\";\")\n",
    "\n",
    "data_reviews_google = pd.concat([data_nevada, data_florida, data_california])\n",
    "\n",
    "data_reviews_google.shape"
   ]
  },
  {
   "cell_type": "markdown",
   "metadata": {},
   "source": [
    "Eliminamos columnas sin valor."
   ]
  },
  {
   "cell_type": "code",
   "execution_count": 23,
   "metadata": {},
   "outputs": [],
   "source": [
    "data_reviews_google = data_reviews_google.drop(columns=['Unnamed: 0', 'pics', 'resp'])"
   ]
  },
  {
   "cell_type": "markdown",
   "metadata": {},
   "source": [
    "Generamos identificador único de review usando 'time', gmap_id y 'user_id'."
   ]
  },
  {
   "cell_type": "code",
   "execution_count": 24,
   "metadata": {},
   "outputs": [],
   "source": [
    "import hashlib\n",
    "\n",
    "def generate_hash(time, gmap, user):\n",
    "    hash_input = str(time) + gmap + str(user)\n",
    "    hash_object = hashlib.md5(hash_input.encode())\n",
    "    return hash_object.hexdigest()"
   ]
  },
  {
   "cell_type": "code",
   "execution_count": 25,
   "metadata": {},
   "outputs": [],
   "source": [
    "data_reviews_google['id_hash'] = data_reviews_google.apply(lambda row: generate_hash(row['time'], row['gmap_id'], row['user_id']), axis=1)"
   ]
  },
  {
   "cell_type": "markdown",
   "metadata": {},
   "source": [
    "Creamos función para formatear columna 'time' y la aplicamos."
   ]
  },
  {
   "cell_type": "code",
   "execution_count": 26,
   "metadata": {},
   "outputs": [],
   "source": [
    "def format_datetime(data):\n",
    "    fecha = datetime.fromtimestamp(data / 1000)  # Dividir por 1000 para convertir a segundos\n",
    "    return fecha.strftime('%Y-%m-%d %H:%M:%S')  # Formatear la fecha y hora legible\n"
   ]
  },
  {
   "cell_type": "code",
   "execution_count": 27,
   "metadata": {},
   "outputs": [],
   "source": [
    "data_reviews_google['time'] = data_reviews_google['time'].apply(format_datetime)"
   ]
  },
  {
   "cell_type": "markdown",
   "metadata": {},
   "source": [
    "Reorganizamos las columnas y agregamos la columna 'likes'."
   ]
  },
  {
   "cell_type": "code",
   "execution_count": 28,
   "metadata": {},
   "outputs": [],
   "source": [
    "new_column_order = ['id_hash', 'user_id', 'name', 'gmap_id', 'rating', 'text', 'time']\n",
    "\n",
    "data_reviews_google = data_reviews_google[new_column_order]\n",
    "data_reviews_google['likes'] = None"
   ]
  },
  {
   "cell_type": "markdown",
   "metadata": {},
   "source": [
    "Eliminamos duplicados."
   ]
  },
  {
   "cell_type": "code",
   "execution_count": 29,
   "metadata": {},
   "outputs": [
    {
     "data": {
      "text/plain": [
       "(7131416, 8)"
      ]
     },
     "execution_count": 29,
     "metadata": {},
     "output_type": "execute_result"
    }
   ],
   "source": [
    "data_reviews_google.drop_duplicates(inplace=True)\n",
    "data_reviews_google.shape"
   ]
  },
  {
   "cell_type": "code",
   "execution_count": 110,
   "metadata": {},
   "outputs": [
    {
     "name": "stdout",
     "output_type": "stream",
     "text": [
      "<class 'pandas.core.frame.DataFrame'>\n",
      "Int64Index: 7131416 entries, 0 to 2699999\n",
      "Data columns (total 8 columns):\n",
      " #   Column   Dtype \n",
      "---  ------   ----- \n",
      " 0   id_hash  object\n",
      " 1   user_id  object\n",
      " 2   name     object\n",
      " 3   gmap_id  object\n",
      " 4   rating   int64 \n",
      " 5   text     object\n",
      " 6   time     object\n",
      " 7   likes    object\n",
      "dtypes: int64(1), object(7)\n",
      "memory usage: 489.7+ MB\n"
     ]
    }
   ],
   "source": [
    "data_reviews_google.info()"
   ]
  },
  {
   "cell_type": "markdown",
   "metadata": {},
   "source": [
    "Convertimos 'user_id' a formato string."
   ]
  },
  {
   "cell_type": "code",
   "execution_count": 71,
   "metadata": {},
   "outputs": [],
   "source": [
    "from decimal import Decimal\n",
    "def convertir_notacion(valor):\n",
    "    return format(Decimal(str(valor)), '.0f')\n",
    "\n",
    "data_reviews_google['user_id'] = data_reviews_google['user_id'].apply(convertir_notacion)"
   ]
  },
  {
   "cell_type": "markdown",
   "metadata": {},
   "source": [
    "Aseguramos que 'gmap_id' esté en formato string."
   ]
  },
  {
   "cell_type": "code",
   "execution_count": 73,
   "metadata": {},
   "outputs": [],
   "source": [
    "data_reviews_google['gmap_id'] = data_reviews_google['gmap_id'].astype(str)"
   ]
  },
  {
   "cell_type": "code",
   "execution_count": 74,
   "metadata": {},
   "outputs": [
    {
     "data": {
      "text/html": [
       "<div>\n",
       "<style scoped>\n",
       "    .dataframe tbody tr th:only-of-type {\n",
       "        vertical-align: middle;\n",
       "    }\n",
       "\n",
       "    .dataframe tbody tr th {\n",
       "        vertical-align: top;\n",
       "    }\n",
       "\n",
       "    .dataframe thead th {\n",
       "        text-align: right;\n",
       "    }\n",
       "</style>\n",
       "<table border=\"1\" class=\"dataframe\">\n",
       "  <thead>\n",
       "    <tr style=\"text-align: right;\">\n",
       "      <th></th>\n",
       "      <th>id_hash</th>\n",
       "      <th>user_id</th>\n",
       "      <th>name</th>\n",
       "      <th>gmap_id</th>\n",
       "      <th>rating</th>\n",
       "      <th>text</th>\n",
       "      <th>time</th>\n",
       "      <th>likes</th>\n",
       "    </tr>\n",
       "  </thead>\n",
       "  <tbody>\n",
       "    <tr>\n",
       "      <th>0</th>\n",
       "      <td>847099cd0a32acb609caa730ec5f69ef</td>\n",
       "      <td>102843170183026330000</td>\n",
       "      <td>CDL CO</td>\n",
       "      <td>0x80c8c5cdced316b5:0xaf1ea0b1e42132a9</td>\n",
       "      <td>5</td>\n",
       "      <td>No frills smaller coffee counter in the corner...</td>\n",
       "      <td>2021-06-03 12:15:04</td>\n",
       "      <td>None</td>\n",
       "    </tr>\n",
       "    <tr>\n",
       "      <th>1</th>\n",
       "      <td>a324b6eaf9f36121b018ce36b9ee2ff4</td>\n",
       "      <td>114954392137907770000</td>\n",
       "      <td>So_ Blind</td>\n",
       "      <td>0x80c8c5cdced316b5:0xaf1ea0b1e42132a9</td>\n",
       "      <td>1</td>\n",
       "      <td>Save yourself the frustration and just ignore ...</td>\n",
       "      <td>2019-11-07 15:43:33</td>\n",
       "      <td>None</td>\n",
       "    </tr>\n",
       "    <tr>\n",
       "      <th>2</th>\n",
       "      <td>43743af5d15c3becac33d8ce9dddb1bf</td>\n",
       "      <td>116523433330089120000</td>\n",
       "      <td>Greg Hansen</td>\n",
       "      <td>0x80c8c5cdced316b5:0xaf1ea0b1e42132a9</td>\n",
       "      <td>3</td>\n",
       "      <td>I passed two Starbucks in order to get to this...</td>\n",
       "      <td>2018-01-06 10:06:03</td>\n",
       "      <td>None</td>\n",
       "    </tr>\n",
       "  </tbody>\n",
       "</table>\n",
       "</div>"
      ],
      "text/plain": [
       "                            id_hash                user_id         name  \\\n",
       "0  847099cd0a32acb609caa730ec5f69ef  102843170183026330000       CDL CO   \n",
       "1  a324b6eaf9f36121b018ce36b9ee2ff4  114954392137907770000    So_ Blind   \n",
       "2  43743af5d15c3becac33d8ce9dddb1bf  116523433330089120000  Greg Hansen   \n",
       "\n",
       "                                 gmap_id  rating  \\\n",
       "0  0x80c8c5cdced316b5:0xaf1ea0b1e42132a9       5   \n",
       "1  0x80c8c5cdced316b5:0xaf1ea0b1e42132a9       1   \n",
       "2  0x80c8c5cdced316b5:0xaf1ea0b1e42132a9       3   \n",
       "\n",
       "                                                text                 time  \\\n",
       "0  No frills smaller coffee counter in the corner...  2021-06-03 12:15:04   \n",
       "1  Save yourself the frustration and just ignore ...  2019-11-07 15:43:33   \n",
       "2  I passed two Starbucks in order to get to this...  2018-01-06 10:06:03   \n",
       "\n",
       "  likes  \n",
       "0  None  \n",
       "1  None  \n",
       "2  None  "
      ]
     },
     "execution_count": 74,
     "metadata": {},
     "output_type": "execute_result"
    }
   ],
   "source": [
    "data_reviews_google.head(3)"
   ]
  },
  {
   "cell_type": "markdown",
   "metadata": {},
   "source": [
    "Guardamos en un archivo csv."
   ]
  },
  {
   "cell_type": "code",
   "execution_count": 111,
   "metadata": {},
   "outputs": [],
   "source": [
    "data_reviews_google_to_store = data_reviews_google.drop(columns=['name'])\n",
    "data_reviews_google_to_store.to_csv('Google datasets/Google_reviews.csv', sep=\";\", index=False)"
   ]
  },
  {
   "cell_type": "markdown",
   "metadata": {},
   "source": [
    "### Generando Users"
   ]
  },
  {
   "cell_type": "markdown",
   "metadata": {},
   "source": [
    "Generamos los Google users desde las reviews."
   ]
  },
  {
   "cell_type": "code",
   "execution_count": 45,
   "metadata": {},
   "outputs": [
    {
     "data": {
      "text/plain": [
       "(1995981, 2)"
      ]
     },
     "execution_count": 45,
     "metadata": {},
     "output_type": "execute_result"
    }
   ],
   "source": [
    "data_users_google = data_reviews_google.drop_duplicates(subset=['user_id'])\n",
    "data_users_google = data_users_google[['user_id', 'name']]\n",
    "data_users_google.shape"
   ]
  },
  {
   "cell_type": "markdown",
   "metadata": {},
   "source": [
    "Concatenamos con los Yelp users."
   ]
  },
  {
   "cell_type": "code",
   "execution_count": 53,
   "metadata": {},
   "outputs": [
    {
     "data": {
      "text/html": [
       "<div>\n",
       "<style scoped>\n",
       "    .dataframe tbody tr th:only-of-type {\n",
       "        vertical-align: middle;\n",
       "    }\n",
       "\n",
       "    .dataframe tbody tr th {\n",
       "        vertical-align: top;\n",
       "    }\n",
       "\n",
       "    .dataframe thead th {\n",
       "        text-align: right;\n",
       "    }\n",
       "</style>\n",
       "<table border=\"1\" class=\"dataframe\">\n",
       "  <thead>\n",
       "    <tr style=\"text-align: right;\">\n",
       "      <th></th>\n",
       "      <th>user_id</th>\n",
       "      <th>name</th>\n",
       "      <th>fans</th>\n",
       "      <th>votes</th>\n",
       "    </tr>\n",
       "  </thead>\n",
       "  <tbody>\n",
       "    <tr>\n",
       "      <th>0</th>\n",
       "      <td>qVc8ODYU5SZjKXVBgXdI7w</td>\n",
       "      <td>Walker</td>\n",
       "      <td>267.0</td>\n",
       "      <td>14470.0</td>\n",
       "    </tr>\n",
       "    <tr>\n",
       "      <th>1</th>\n",
       "      <td>j14WgRoU_-2ZE1aw1dXrJg</td>\n",
       "      <td>Daniel</td>\n",
       "      <td>3138.0</td>\n",
       "      <td>83438.0</td>\n",
       "    </tr>\n",
       "    <tr>\n",
       "      <th>2</th>\n",
       "      <td>2WnXYQFK0hXEoTxPtV2zvg</td>\n",
       "      <td>Steph</td>\n",
       "      <td>52.0</td>\n",
       "      <td>4099.0</td>\n",
       "    </tr>\n",
       "    <tr>\n",
       "      <th>3</th>\n",
       "      <td>SZDeASXq7o05mMNLshsdIA</td>\n",
       "      <td>Gwen</td>\n",
       "      <td>28.0</td>\n",
       "      <td>1141.0</td>\n",
       "    </tr>\n",
       "    <tr>\n",
       "      <th>4</th>\n",
       "      <td>hA5lMy-EnncsH4JoR-hFGQ</td>\n",
       "      <td>Karen</td>\n",
       "      <td>1.0</td>\n",
       "      <td>51.0</td>\n",
       "    </tr>\n",
       "  </tbody>\n",
       "</table>\n",
       "</div>"
      ],
      "text/plain": [
       "                  user_id    name    fans    votes\n",
       "0  qVc8ODYU5SZjKXVBgXdI7w  Walker   267.0  14470.0\n",
       "1  j14WgRoU_-2ZE1aw1dXrJg  Daniel  3138.0  83438.0\n",
       "2  2WnXYQFK0hXEoTxPtV2zvg   Steph    52.0   4099.0\n",
       "3  SZDeASXq7o05mMNLshsdIA    Gwen    28.0   1141.0\n",
       "4  hA5lMy-EnncsH4JoR-hFGQ   Karen     1.0     51.0"
      ]
     },
     "execution_count": 53,
     "metadata": {},
     "output_type": "execute_result"
    }
   ],
   "source": [
    "data_users_final = pd.concat([df_user_Yelp_rd, data_users_google])\n",
    "data_users_final.head()"
   ]
  },
  {
   "cell_type": "code",
   "execution_count": 54,
   "metadata": {},
   "outputs": [
    {
     "data": {
      "text/plain": [
       "(3983878, 4)"
      ]
     },
     "execution_count": 54,
     "metadata": {},
     "output_type": "execute_result"
    }
   ],
   "source": [
    "data_users_final.shape"
   ]
  },
  {
   "cell_type": "markdown",
   "metadata": {},
   "source": [
    "Verificación de duplicados."
   ]
  },
  {
   "cell_type": "code",
   "execution_count": 55,
   "metadata": {},
   "outputs": [
    {
     "data": {
      "text/plain": [
       "0"
      ]
     },
     "execution_count": 55,
     "metadata": {},
     "output_type": "execute_result"
    }
   ],
   "source": [
    "data_users_final.duplicated(subset=['user_id']).sum()"
   ]
  },
  {
   "cell_type": "markdown",
   "metadata": {},
   "source": [
    "Guardamos en un archivo csv."
   ]
  },
  {
   "cell_type": "code",
   "execution_count": 56,
   "metadata": {},
   "outputs": [],
   "source": [
    "data_users_final.to_csv(\"users.csv\", sep=\";\", index=False)"
   ]
  },
  {
   "cell_type": "code",
   "execution_count": 59,
   "metadata": {},
   "outputs": [
    {
     "data": {
      "text/html": [
       "<div>\n",
       "<style scoped>\n",
       "    .dataframe tbody tr th:only-of-type {\n",
       "        vertical-align: middle;\n",
       "    }\n",
       "\n",
       "    .dataframe tbody tr th {\n",
       "        vertical-align: top;\n",
       "    }\n",
       "\n",
       "    .dataframe thead th {\n",
       "        text-align: right;\n",
       "    }\n",
       "</style>\n",
       "<table border=\"1\" class=\"dataframe\">\n",
       "  <thead>\n",
       "    <tr style=\"text-align: right;\">\n",
       "      <th></th>\n",
       "      <th>user_id</th>\n",
       "      <th>name</th>\n",
       "      <th>fans</th>\n",
       "      <th>votes</th>\n",
       "    </tr>\n",
       "  </thead>\n",
       "  <tbody>\n",
       "    <tr>\n",
       "      <th>0</th>\n",
       "      <td>qVc8ODYU5SZjKXVBgXdI7w</td>\n",
       "      <td>Walker</td>\n",
       "      <td>267.0</td>\n",
       "      <td>14470.0</td>\n",
       "    </tr>\n",
       "    <tr>\n",
       "      <th>1</th>\n",
       "      <td>j14WgRoU_-2ZE1aw1dXrJg</td>\n",
       "      <td>Daniel</td>\n",
       "      <td>3138.0</td>\n",
       "      <td>83438.0</td>\n",
       "    </tr>\n",
       "    <tr>\n",
       "      <th>2</th>\n",
       "      <td>2WnXYQFK0hXEoTxPtV2zvg</td>\n",
       "      <td>Steph</td>\n",
       "      <td>52.0</td>\n",
       "      <td>4099.0</td>\n",
       "    </tr>\n",
       "    <tr>\n",
       "      <th>3</th>\n",
       "      <td>SZDeASXq7o05mMNLshsdIA</td>\n",
       "      <td>Gwen</td>\n",
       "      <td>28.0</td>\n",
       "      <td>1141.0</td>\n",
       "    </tr>\n",
       "    <tr>\n",
       "      <th>4</th>\n",
       "      <td>hA5lMy-EnncsH4JoR-hFGQ</td>\n",
       "      <td>Karen</td>\n",
       "      <td>1.0</td>\n",
       "      <td>51.0</td>\n",
       "    </tr>\n",
       "  </tbody>\n",
       "</table>\n",
       "</div>"
      ],
      "text/plain": [
       "                  user_id    name    fans    votes\n",
       "0  qVc8ODYU5SZjKXVBgXdI7w  Walker   267.0  14470.0\n",
       "1  j14WgRoU_-2ZE1aw1dXrJg  Daniel  3138.0  83438.0\n",
       "2  2WnXYQFK0hXEoTxPtV2zvg   Steph    52.0   4099.0\n",
       "3  SZDeASXq7o05mMNLshsdIA    Gwen    28.0   1141.0\n",
       "4  hA5lMy-EnncsH4JoR-hFGQ   Karen     1.0     51.0"
      ]
     },
     "execution_count": 59,
     "metadata": {},
     "output_type": "execute_result"
    }
   ],
   "source": [
    "data_users_final.head()"
   ]
  },
  {
   "cell_type": "code",
   "execution_count": 58,
   "metadata": {},
   "outputs": [
    {
     "data": {
      "text/plain": [
       "(3983878, 4)"
      ]
     },
     "execution_count": 58,
     "metadata": {},
     "output_type": "execute_result"
    }
   ],
   "source": [
    "data_users_final.shape"
   ]
  },
  {
   "cell_type": "code",
   "execution_count": 61,
   "metadata": {},
   "outputs": [
    {
     "data": {
      "text/plain": [
       "587933.0"
      ]
     },
     "execution_count": 61,
     "metadata": {},
     "output_type": "execute_result"
    }
   ],
   "source": [
    "max_valor = data_users_final['votes'].max()\n",
    "max_valor"
   ]
  },
  {
   "cell_type": "markdown",
   "metadata": {},
   "source": [
    "#### Verificación de errores"
   ]
  },
  {
   "cell_type": "code",
   "execution_count": null,
   "metadata": {},
   "outputs": [
    {
     "name": "stdout",
     "output_type": "stream",
     "text": [
      "Byte 66 contains: q\n"
     ]
    }
   ],
   "source": [
    "file_path = r'Yelp datasets\\Yelp_reviews.csv'\n",
    "byte_offset = 66\n",
    "\n",
    "with open(file_path, 'rb') as file:\n",
    "    file.seek(byte_offset)\n",
    "    byte_contents = file.read(1)\n",
    "\n",
    "    if byte_contents:\n",
    "        print(f\"Byte {byte_offset} contains: {byte_contents.decode('utf-8')}\")\n",
    "    else:\n",
    "        print(f\"Byte {byte_offset} is not found.\")"
   ]
  },
  {
   "cell_type": "code",
   "execution_count": null,
   "metadata": {},
   "outputs": [
    {
     "name": "stdout",
     "output_type": "stream",
     "text": [
      "Line starting at byte 858751: I6B7EMxjOfGjypia7PhcPw;Sew3waPPmACNjpqAxWCkpA;rjuWz_AD3WfXJc03AhIO_w;3;Improv comedy is hard  There s no doubt about it  I did it when I was in high school in front of a ton of my peers when Whose Line Is It Anyway  was at it s peak of popularity so I know what it s like  I d like to be doing it again to be honest  It s a great and rewarding challenge to create comedy out of thin air or from being forced to search a mental back catalog of movie scenes and scripts and try to do an original spin on it immediately  Stand up comedians have a pre written set and film comedians have a script to go off but improv ers face a really difficult problem to begin with their audience can many times determine the quality of the show  Worse yet the performers feed off their audience  This means that by the end of the show it usually goes one of two ways they ve won the audience over entirely or everybody wants to pelt them with tomatoes rotten fruit or anything else that isn t nailed down  Luckily this show s audience was quite participatory and amicable  but I was disappointed to hear them shout quite a few terrible suggestions that the troupe attempted to roll with especially when nobody knew what it was that the audience was talking about   Take the show s opener  166  or at least that s what I m going to call it  was a challenge for the selected members to craft a pun joke out of noun suggestions used from the audience  It goes like this  166 ______ walk into a bar and the bartender says _____________  After the audience shouted out nouns the team did their best to craft some groan inducing puns and for what it s worth they nailed the target more than missed it  It was a great opener until the show ground to a halt when they asked for a vehicle and someone shouted G6  no doubt in reference to the popular song that I can t wait to NOT be hearing on the radio or commercials anymore because it s utter garbage  The problem was nobody on stage knew what a G6 was  I think it s an airplane but what I couldn t help thinking was  1 Why not just ask for another suggestion  It was immediately established by everyone on stage that nobody knew what a G6 was yet they tried to make jokes with it anyway  And it didn t work  Perhaps the worst instance was one of the performers making a joke out of how G6 sounds like Jesus   With that joke it seemed as though he was recognizing how obnoxiously unfunny and over reaching this was but I didn t think he actually WAS that guy I thought he was just playing the role for that game  Unfortunately before the night was over he had all but built a wall and cemented himself into that role  2  Why ask for a vehicle  Vehicles cannot walk and they cannot talk so the concept of them walking into a bar and reacting in any way to the bartender s response is a bit too absurd to be funny  This Why not use a different suggestion was a bit too much of an on going trend throughout the 2 hour 1 2 an hour too long by our analysis show   My dad purchased our tickets as a birthday present for me but that said the price for tickets  17 each was really not indicative of the level of quality we got  It tended to fluctuate throughout the show though and some of the performers shone a lot brighter than the others  I will now affectionately give them all nicknames based on their performances because I m too lazy to look them up even though I know they re ultimately a google search away and this totally makes me look unprofessional  Let s see  As I recall the big stand outs were  Irish Guy with a Beard and Hat  Black shirt popped collar guy who opened the show easily the best one at wit and dry humor   The Expressive Midgetess Clearly the ring leader   Wacky Ass Lanky Chick The Clear Audience Favorite  and  Redhead Who Acts Circles Around Everyone Else Even If They re Not Bad To Begin With   The other stand out was Skull Shirt Kid Who Looks And Performs Like He Pays Them To Be There  Yeah I know that s not the case but if they all take nothing else away from what I say here it s this he was awful  I don t know if he thought his tech referencing humor and beep boop sound effects and visible lack of enthusiasm were supposed to paint him as the awkward yet endearing young dork who acts like he doesn t want to be here but blows up and surprises everyone with how good he is  that was what I attempted in high school or if he was just having a bad night week overall  If so I can cut him some slack But it does need to be acknowledged that he really stunk the place up tonight  I could seriously write another 3 pages detailing each game which goes to show how crappy of a writer I am for my inability to express myself clearly and concisely in a way that doesn t take as long to read as War and Peace  Plus nobody d read it  Bottom line these guys are worth seeing  But probably not for Seventeen Effing Bucks ;2011-01-09 05:30:20;0\n",
      "\n"
     ]
    }
   ],
   "source": [
    "file_path = r'Yelp datasets\\Yelp_reviews.csv'\n",
    "byte_offset = 858751\n",
    "\n",
    "with open(file_path, 'rb') as file:\n",
    "    file.seek(byte_offset)\n",
    "    line = file.readline().decode('utf-8')\n",
    "\n",
    "    if line:\n",
    "        print(f\"Line starting at byte {byte_offset}: {line}\")\n",
    "    else:\n",
    "        print(f\"Line starting at byte {byte_offset} is not found.\")"
   ]
  },
  {
   "cell_type": "code",
   "execution_count": null,
   "metadata": {},
   "outputs": [
    {
     "name": "stdout",
     "output_type": "stream",
     "text": [
      "La longitud máxima de una reseña es: 4961\n"
     ]
    }
   ],
   "source": [
    "# Maximun review length verification.\n",
    "df = pd.DataFrame()\n",
    "df['longitud_reseña'] = data_yelp_reviews['text'].apply(len)\n",
    "longitud_maxima = df['longitud_reseña'].max()\n",
    "\n",
    "print(\"La longitud máxima de una reseña es:\", longitud_maxima)"
   ]
  },
  {
   "cell_type": "code",
   "execution_count": null,
   "metadata": {},
   "outputs": [
    {
     "name": "stdout",
     "output_type": "stream",
     "text": [
      "La longitud máxima de una reseña es: 8360\n"
     ]
    }
   ],
   "source": [
    "df = pd.DataFrame()\n",
    "df['longitud_reseña'] = data_reviews_google['text'].apply(len)\n",
    "longitud_maxima = df['longitud_reseña'].max()\n",
    "\n",
    "print(\"La longitud máxima de una reseña es:\", longitud_maxima)"
   ]
  },
  {
   "cell_type": "code",
   "execution_count": null,
   "metadata": {},
   "outputs": [
    {
     "name": "stdout",
     "output_type": "stream",
     "text": [
      "885211\n"
     ]
    }
   ],
   "source": [
    "import re\n",
    "def contiene_simbolos(valor):\n",
    "    return bool(re.search(r'[^a-zA-Z0-9]', valor))\n",
    "\n",
    "# Verificar la columna review_id en busca de símbolos no numéricos ni alfabéticos\n",
    "resultados = data_yelp_reviews['review_id'].apply(contiene_simbolos).sum()\n",
    "\n",
    "# Imprimir los resultados\n",
    "print(resultados)"
   ]
  }
 ],
 "metadata": {
  "kernelspec": {
   "display_name": "Python 3",
   "language": "python",
   "name": "python3"
  },
  "language_info": {
   "codemirror_mode": {
    "name": "ipython",
    "version": 3
   },
   "file_extension": ".py",
   "mimetype": "text/x-python",
   "name": "python",
   "nbconvert_exporter": "python",
   "pygments_lexer": "ipython3",
   "version": "3.11.4"
  },
  "orig_nbformat": 4
 },
 "nbformat": 4,
 "nbformat_minor": 2
}
