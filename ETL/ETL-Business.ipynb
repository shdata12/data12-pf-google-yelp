{
 "cells": [
  {
   "cell_type": "code",
   "execution_count": 2,
   "metadata": {},
   "outputs": [],
   "source": [
    "import pandas as pd\n",
    "\n",
    "df = pd.read_pickle(\"business.pkl\")"
   ]
  },
  {
   "cell_type": "code",
   "execution_count": 75,
   "metadata": {},
   "outputs": [],
   "source": [
    "#Eliminamos columnas duplicadas y vacias\n",
    "df=df.drop(df.columns[14:28], axis=1)"
   ]
  },
  {
   "cell_type": "code",
   "execution_count": 112,
   "metadata": {},
   "outputs": [],
   "source": [
    "#Guardamos en distintas variables los estados con los que vamos a trabajar\n",
    "df2=df.loc[(df['state'] == \"CA\")]\n",
    "df3 = df.loc[(df['state'] == \"FL\")]\n",
    "df4=df.loc[(df['state'] == \"NV\")]\n"
   ]
  },
  {
   "cell_type": "code",
   "execution_count": 127,
   "metadata": {},
   "outputs": [],
   "source": [
    "#Concatenamos las variables para que nos quede una sola lista\n",
    "df5=pd.concat([df2,df3,df4])"
   ]
  },
  {
   "cell_type": "code",
   "execution_count": 12,
   "metadata": {},
   "outputs": [],
   "source": [
    "#Normalizamos datos contenidos en diccionarios, convirtiendolos a listas\n",
    "df5[\"hours\"]=df5[\"hours\"].replace('{', '[', regex=True)\n",
    "df5[\"hours\"]=df5[\"hours\"].replace('}', ']', regex=True)\n",
    "df5[\"attributes\"]=df5[\"attributes\"].replace('\"{', '[', regex=True)\n",
    "df5[\"attributes\"]=df5[\"attributes\"].replace('}\"', ']', regex=True)\n",
    "df5[\"attributes\"]=df5[\"attributes\"].replace('{', '[', regex=True)\n",
    "df5[\"attributes\"]=df5[\"attributes\"].replace('}', ']', regex=True)"
   ]
  },
  {
   "cell_type": "code",
   "execution_count": 19,
   "metadata": {},
   "outputs": [],
   "source": [
    "#Eliminamos la columna is_open \n",
    "df5 = df5.drop(['is_open'], axis=1)"
   ]
  },
  {
   "cell_type": "code",
   "execution_count": 21,
   "metadata": {},
   "outputs": [],
   "source": [
    "#Guardamos nuestro archivo final en formato CSV \n",
    "df5.to_csv(\"business_final.csv\",  index = False, sep=\";\")"
   ]
  }
 ],
 "metadata": {
  "kernelspec": {
   "display_name": "Python 3",
   "language": "python",
   "name": "python3"
  },
  "language_info": {
   "codemirror_mode": {
    "name": "ipython",
    "version": 3
   },
   "file_extension": ".py",
   "mimetype": "text/x-python",
   "name": "python",
   "nbconvert_exporter": "python",
   "pygments_lexer": "ipython3",
   "version": "3.10.0"
  },
  "orig_nbformat": 4
 },
 "nbformat": 4,
 "nbformat_minor": 2
}
