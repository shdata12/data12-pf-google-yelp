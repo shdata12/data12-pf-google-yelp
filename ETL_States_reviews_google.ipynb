{
 "cells": [
  {
   "cell_type": "markdown",
   "metadata": {},
   "source": [
    "### ETL con los `json` de las reviews de NEVADA, CALIFORNIA, y FLORIDA (fuente de datos de Google)"
   ]
  },
  {
   "cell_type": "code",
   "execution_count": 89,
   "metadata": {},
   "outputs": [],
   "source": [
    "import pandas as pd"
   ]
  },
  {
   "cell_type": "markdown",
   "metadata": {},
   "source": [
    "##### Archivos `json` de la carpeta _reviews-estados/review-Nevada_"
   ]
  },
  {
   "cell_type": "code",
   "execution_count": 15,
   "metadata": {},
   "outputs": [],
   "source": [
    "file_names = [\"1.json\", \"2.json\", \"3.json\", \"4.json\", \"5.json\", \"6.json\", \"7.json\", \"8.json\", \"9.json\", \"10.json\", \"11.json\", \"12.json\"]\n",
    "dataframes_Nevada = []\n",
    "\n",
    "for file_name in file_names:\n",
    "    json_file_path = f\"c:/Users/PC/Documents/RawDataPF_Henry/reviews-estados/review-Nevada/{file_name}\"\n",
    "    df = pd.read_json(json_file_path, lines=True)\n",
    "    dataframes_Nevada.append(df)\n",
    "df_NV_reviews = pd.concat(dataframes_Nevada, ignore_index=True)\n",
    "df_NV_reviews.to_csv(\"NV_reviews.csv\", index=False)"
   ]
  },
  {
   "cell_type": "markdown",
   "metadata": {},
   "source": [
    "##### Archivos `json` de la carpeta _reviews-estados/review-California_"
   ]
  },
  {
   "cell_type": "code",
   "execution_count": 18,
   "metadata": {},
   "outputs": [],
   "source": [
    "file_names = [\"1.json\", \"2.json\", \"3.json\", \"4.json\", \"5.json\", \"6.json\", \"7.json\", \"8.json\", \"9.json\", \"10.json\", \"11.json\", \"12.json\", \"13.json\", \"14.json\", \"15.json\", \"16.json\", \"17.json\", \"18.json\"]\n",
    "dataframes_California = []\n",
    "\n",
    "for file_name in file_names:\n",
    "    json_file_path = f\"c:/Users/PC/Documents/RawDataPF_Henry/reviews-estados/review-California/{file_name}\"\n",
    "    df = pd.read_json(json_file_path, lines=True)\n",
    "    dataframes_California.append(df)\n",
    "df_CA_reviews = pd.concat(dataframes_California, ignore_index=True)"
   ]
  },
  {
   "cell_type": "markdown",
   "metadata": {},
   "source": [
    "##### Archivos `json` de la carpeta _reviews-estados/review-Florida_"
   ]
  },
  {
   "cell_type": "code",
   "execution_count": 19,
   "metadata": {},
   "outputs": [],
   "source": [
    "file_names = [\"1.json\", \"2.json\", \"3.json\", \"4.json\", \"5.json\", \"6.json\", \"7.json\", \"8.json\", \"9.json\", \"10.json\", \"11.json\", \"12.json\", \"13.json\", \"14.json\", \"15.json\", \"16.json\", \"17.json\", \"18.json\", \"19.json\"]\n",
    "dataframes_FL = []\n",
    "\n",
    "for file_name in file_names:\n",
    "    json_file_path = f\"c:/Users/PC/Documents/RawDataPF_Henry/reviews-estados/review-Florida/{file_name}\"\n",
    "    df = pd.read_json(json_file_path, lines=True)\n",
    "    dataframes_FL.append(df)\n",
    "df_FL_reviews = pd.concat(dataframes_FL, ignore_index=True)"
   ]
  },
  {
   "cell_type": "code",
   "execution_count": 55,
   "metadata": {},
   "outputs": [],
   "source": [
    "df_CA_reviews.to_csv('c:/Users/PC/Documents/RawDataPF_Henry/CA_reviews.csv', index=False, sep=';')\n",
    "df_NV_reviews.to_csv('c:/Users/PC/Documents/RawDataPF_Henry/NV_reviews.csv', index=False, sep=';')\n",
    "df_FL_reviews.to_csv('c:/Users/PC/Documents/RawDataPF_Henry/FL_reviews.csv', index=False, sep=';')"
   ]
  },
  {
   "cell_type": "markdown",
   "metadata": {},
   "source": [
    "#### Scrip para subir al contenedor de Azure desde python"
   ]
  },
  {
   "cell_type": "code",
   "execution_count": null,
   "metadata": {},
   "outputs": [],
   "source": [
    "# Scrip enviar archivos al contenedor de Azure desde python\n",
    "from azure.storage.blob import BlobServiceClient, BlobClient, ContainerClient\n",
    "\n",
    "def upload_to_azure_blob(account_name, account_key, container_name, local_file_path, blob_name):\n",
    "    # Crear el cliente del servicio de Blob\n",
    "    blob_service_client = BlobServiceClient(account_url=f\"https://{account_name}.blob.core.windows.net/\", credential=account_key)\n",
    "\n",
    "    # Obtener una referencia al contenedor\n",
    "    container_client = blob_service_client.get_container_client(container_name)\n",
    "\n",
    "    # Cargar el archivo local en Azure Blob Storage\n",
    "    with open(local_file_path, \"rb\") as data:\n",
    "        blob_client = container_client.get_blob_client(blob_name)\n",
    "        blob_client.upload_blob(data)\n",
    "\n",
    "# Variables de configuración\n",
    "account_name = 'proyectofinalgrupo05'\n",
    "account_key = 'vrh6zC8lshFY666G21tX7B5jFBsTKcEpv90E6ttyPVnbckIheKpL3zSnNOse9YrTSoHmtULIcSEu+ASt0qK2EA=='\n",
    "container_name = 'datasetscontainer'\n",
    "local_file_path = r\"c:\\Users\\PC\\Documents\\RawDataPF_Henry\\Yelp_users_final.csv\" # Reemplazar por la ruta que indique en donde se encuentra el archivo a subir\n",
    "blob_name = 'Yelp_users.csv' # Reemplazar por el nombre del archivo\n",
    "\n",
    "# Llamar a la función para cargar el archivo en Azure Blob Storage\n",
    "upload_to_azure_blob(account_name, account_key, container_name, local_file_path, blob_name)"
   ]
  }
 ],
 "metadata": {
  "kernelspec": {
   "display_name": "Python 3",
   "language": "python",
   "name": "python3"
  },
  "language_info": {
   "codemirror_mode": {
    "name": "ipython",
    "version": 3
   },
   "file_extension": ".py",
   "mimetype": "text/x-python",
   "name": "python",
   "nbconvert_exporter": "python",
   "pygments_lexer": "ipython3",
   "version": "3.10.4"
  },
  "orig_nbformat": 4
 },
 "nbformat": 4,
 "nbformat_minor": 2
}
