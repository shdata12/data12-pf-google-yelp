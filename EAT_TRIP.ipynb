{
 "cells": [
  {
   "cell_type": "markdown",
   "metadata": {},
   "source": [
    "<h2> Sistema de Recomendación de lugares para comer"
   ]
  },
  {
   "cell_type": "markdown",
   "metadata": {},
   "source": [
    "<h5>En este script, vamos a mostrar cómo generar recomendaciones de tiendas basadas en características como la ubicación, categoría, reseñas y calificaciones.<br>\n",
    "Este flujo de trabajo genera recomendaciones de tiendas basadas en características específicas utilizando un modelo de regresión lineal y representaciones vectoriales de reseñas procesadas por un modelo de lenguaje preentrenado.</h5>\n",
    "\n",
    "<h3>Importación de bibliotecas</h3>\n",
    "<h5>En esta sección, se importan las bibliotecas necesarias, como pandas para el manejo de datos, numpy para cálculos numéricos y LinearRegression de scikit-learn para el modelo de regresión lineal. También se importa el módulo math para cálculos trigonométricos.</h5>"
   ]
  },
  {
   "cell_type": "code",
   "execution_count": 93,
   "metadata": {},
   "outputs": [],
   "source": [
    "import pandas as pd\n",
    "import numpy as np\n",
    "from sklearn.linear_model import LinearRegression"
   ]
  },
  {
   "cell_type": "markdown",
   "metadata": {},
   "source": [
    "<h3>Carga de datos</h3>\n",
    "<h5>En esta parte, se cargan los conjuntos de datos desde archivos CSV utilizando la función read_csv de Pandas. Los datos incluyen información sobre categorías, tiendas, hoteles y puntuaciones de análisis de texto obtenidos de RoBERTa.</h5>"
   ]
  },
  {
   "cell_type": "code",
   "execution_count": 94,
   "metadata": {},
   "outputs": [
    {
     "name": "stderr",
     "output_type": "stream",
     "text": [
      "C:\\Users\\PC\\AppData\\Local\\Temp\\ipykernel_30300\\624089931.py:6: DtypeWarning: Columns (8) have mixed types. Specify dtype option on import or set low_memory=False.\n",
      "  df_RoBERTa = pd.read_csv('C:/Users/PC/Dropbox/Henry/DATA-FT-12/Lab 03 - PF/ML/roberta_Reviews_CA.csv',sep=';')\n"
     ]
    }
   ],
   "source": [
    "# Cargar los datos\n",
    "df_category = pd.read_csv('C:/Users/PC/Dropbox/Henry/DATA-FT-12/Lab 03 - PF/DiagramaER/category.csv',sep=';')  \n",
    "df_category_shop = pd.read_csv('C:/Users/PC/Dropbox/Henry/DATA-FT-12/Lab 03 - PF/DiagramaER/category_shop.csv',sep=';')\n",
    "df_shop = pd.read_csv('C:/Users/PC/Dropbox/Henry/DATA-FT-12/Lab 03 - PF/ML/ML_shops.csv',sep=';') \n",
    "df_hotel = pd.read_csv('C:/Users/PC/Dropbox/Henry/DATA-FT-12/Lab 03 - PF/ML/ML_Hilton_hotels.csv',sep=';') \n",
    "df_RoBERTa = pd.read_csv('C:/Users/PC/Dropbox/Henry/DATA-FT-12/Lab 03 - PF/ML/roberta_Reviews_CA.csv',sep=';')"
   ]
  },
  {
   "cell_type": "markdown",
   "metadata": {},
   "source": [
    "<h3>Datos de entrada generados por el Usuario</h3>\n",
    "<h5>Aquí se selecciona aleatoriamente un hotel en California (hotel_ca) y se extrae su ubicación (latitud y longitud). También se definen las categorías seleccionadas por el cliente en la lista selected_categories."
   ]
  },
  {
   "cell_type": "code",
   "execution_count": 95,
   "metadata": {},
   "outputs": [],
   "source": [
    "# Datos de entrada\n",
    "hotel_ca = df_hotel[df_hotel['state'] == 'CA'].sample(n=1)  # Selecciona un hotel al azar en California\n",
    "\n",
    "lat1 = hotel_ca['latitude'].values[0] # Latitud de la ubicación\n",
    "lon1 = hotel_ca['longitude'].values[0] # Longitud de la ubicación\n",
    "user_location = (lat1, lon1)\n",
    "selected_categories = [1, 3, 5]  # Categorías seleccionadas por el cliente"
   ]
  },
  {
   "cell_type": "markdown",
   "metadata": {},
   "source": [
    "<h3>Cálculo de la región de interés para la búsqueda de los lugares</h3>\n",
    "<h5>Se define una función calculate_distance que toma las coordenadas de dos ubicaciones y calcula la distancia geográfica entre ellas utilizando la fórmula de la ley de los cosenos. El resultado se devuelve en kilómetros.</h5>"
   ]
  },
  {
   "cell_type": "code",
   "execution_count": 96,
   "metadata": {},
   "outputs": [],
   "source": [
    "# Cálculos para la distancia geográfica\n",
    "def calculate_distance(lat1, lon1, lat2, lon2):\n",
    "\n",
    "    radius = 6371  # Radio de la Tierra en kilómetros\n",
    "\n",
    "    dlat = math.radians(lat2 - lat1)\n",
    "    dlon = math.radians(lon2 - lon1)\n",
    "\n",
    "    a = math.sin(dlat / 2) * math.sin(dlat / 2) + math.cos(math.radians(lat1)) * math.cos(math.radians(lat2)) * math.sin(dlon / 2) * math.sin(dlon / 2)\n",
    "    c = 2 * math.atan2(math.sqrt(a), math.sqrt(1 - a))\n",
    "\n",
    "    distance = radius * c\n",
    "    return distance"
   ]
  },
  {
   "cell_type": "markdown",
   "metadata": {},
   "source": [
    "<h3>Filtrado de Locales</h3>\n",
    "<h5>Filtramos los locales de comida según las categorías y la ubicación del usuario.<br>Se crea una lista filtered_shops que contiene las tiendas que están a una distancia de 10 km o menos de la ubicación del usuario.Luego se crea un DataFrame filtered_shops_df a partir de la lista de tiendas filtradas.<br>\n",
    "A continuación, se seleccionan los identificadores de tiendas (id_shop) del DataFrame df_category_shop que tengan categorías presentes en la lista selected_categories. Se filtran las tiendas en el DataFrame filtered_shops_df para incluir solo aquellas que tienen identificadores de tiendas presentes en selected_id_shops.\n",
    "</h5>"
   ]
  },
  {
   "cell_type": "code",
   "execution_count": 97,
   "metadata": {},
   "outputs": [],
   "source": [
    "# Filtrar tiendas por distancia\n",
    "filtered_shops = [\n",
    "    shop for _, shop in df_shop.iterrows() if \n",
    "    calculate_distance(user_location[0], user_location[1], shop['latitude'], shop['longitude']) <= 10\n",
    "]\n",
    "\n",
    "# Crear DataFrame a partir de las tiendas filtradas\n",
    "filtered_shops_df = pd.DataFrame(filtered_shops)\n",
    "\n",
    "# Seleccionar id_shop en df_category_shop que tengan los valores de selected_categories\n",
    "selected_id_shops = df_category_shop[df_category_shop['id_category'].isin(selected_categories)]['id_shop']\n",
    "\n",
    "# Filtrar filtered_shops con los id_shop seleccionados\n",
    "filtered_shops_df = filtered_shops_df[filtered_shops_df['id_shop'].isin(selected_id_shops)]\n",
    "# filtered_shops = filtered_shops[filtered_shops['id_category'].isin(selected_categories)]"
   ]
  },
  {
   "cell_type": "markdown",
   "metadata": {},
   "source": [
    "<h3>Empleo de las reseñas</h3>\n",
    "<h5>Se crea un DataFrame shop_scores que contiene las puntuaciones RoBERTa y estrellas para las tiendas cuyos identificadores estén presentes en filtered_shops_df.<br>A continuación, Se calcula la mediana de las puntuaciones RoBERTa positivas (roberta_pos) y las puntuaciones de estrellas (stars) agrupadas por el identificador de fuente (id_source), lo que proporciona una estimación de las puntuaciones medianas para cada tienda."
   ]
  },
  {
   "cell_type": "code",
   "execution_count": 98,
   "metadata": {},
   "outputs": [],
   "source": [
    "# Obtener los valores RoBERTa_score y stars para cada tienda\n",
    "shop_scores = df_RoBERTa[df_RoBERTa['id_source'].isin(filtered_shops_df['id_source'])]\n",
    "\n",
    "# Calcular la mediana del campo roberta_pos y stars agrupados por id_source\n",
    "median_scores = shop_scores.groupby('id_source')[['roberta_pos', 'stars']].median()"
   ]
  },
  {
   "cell_type": "markdown",
   "metadata": {},
   "source": [
    "<h3>Definición del modelo, entrenamiento y recomendación.</h3>\n",
    "<h5>En esta última sección, se define la función calculate_weighted_score que calcula un puntaje ponderado para cada tienda basado en las puntuaciones RoBERTa y estrellas.<br> Luego, se crea una matriz de características X y un vector objetivo y para el modelo de regresión lineal. Se itera a través de las tiendas filtradas, se calculan los puntajes ponderados y se construyen las matrices X e y.<br> Luego, se entrena el modelo de regresión lineal utilizando LinearRegression() y se generan recomendaciones ordenadas por puntaje ponderado. Finalmente, se imprimen las recomendaciones en la consola junto con el nombre de la tienda correspondiente."
   ]
  },
  {
   "cell_type": "code",
   "execution_count": 91,
   "metadata": {},
   "outputs": [
    {
     "name": "stdout",
     "output_type": "stream",
     "text": [
      "Score: 0.9093362471715091, Shop: Valet Parkig\n",
      "Score: 0.8866914087059915, Shop: The Attic\n",
      "Score: 0.8861222501646722, Shop: Awesome Stay Inc.\n",
      "Score: 0.88608150194264, Shop: Pueblo Viejo\n",
      "Score: 0.8771299948179242, Shop: Live House\n",
      "Score: 0.8749967738897408, Shop: The UPS Store\n",
      "Score: 0.8738356836370739, Shop: Froman's Chicago Deep Dish Pizza\n",
      "Score: 0.8730941646704495, Shop: Umami Burger - Eden\n"
     ]
    }
   ],
   "source": [
    "def calculate_weighted_score(shop):\n",
    "    # Obtener el id_source de la tienda\n",
    "    shop_id = shop['id_source']\n",
    "    \n",
    "    # Buscar el puntaje roberta_pos y stars en shop_scores\n",
    "    if shop_id in shop_scores['id_source'].values:\n",
    "        shop_row = shop_scores[shop_scores['id_source'] == shop_id].iloc[0]\n",
    "        return 0.6 * shop_row[\"roberta_pos\"] + 0.4 * shop_row[\"stars\"]\n",
    "    else:\n",
    "        return 0.0  # Manejar el caso si no se encuentra la tienda en shop_scores\n",
    "\n",
    "# Crear matriz de características 'X' y vector objetivo 'y'\n",
    "X = []\n",
    "y = []\n",
    "\n",
    "for shop in filtered_shops:\n",
    "    shop_id = shop['id_source']\n",
    "    if shop_id in median_scores.index:\n",
    "        X.append([calculate_weighted_score(shop)])\n",
    "        y.append(median_scores.loc[shop_id, ['roberta_pos', 'stars']].values)\n",
    "\n",
    "X = np.array(X)\n",
    "y = np.array(y)\n",
    "\n",
    "# Entrenar el modelo de regresión lineal (nuevo código)\n",
    "model = LinearRegression()\n",
    "model.fit(X, y)\n",
    "\n",
    "# Generar recomendaciones ordenadas por el puntaje ponderado\n",
    "recommendations = sorted(zip(model.predict(X)[:, 0], filtered_shops), reverse=True)\n",
    "\n",
    "# Imprimir las recomendaciones\n",
    "for score, shop in recommendations:\n",
    "    print(f\"Score: {score}, Shop: {df_shop[df_shop['id_source'] == shop['id_source']]['name'].values[0]}\")"
   ]
  }
 ],
 "metadata": {
  "kernelspec": {
   "display_name": "Python 3",
   "language": "python",
   "name": "python3"
  },
  "language_info": {
   "codemirror_mode": {
    "name": "ipython",
    "version": 3
   },
   "file_extension": ".py",
   "mimetype": "text/x-python",
   "name": "python",
   "nbconvert_exporter": "python",
   "pygments_lexer": "ipython3",
   "version": "3.8.4"
  },
  "orig_nbformat": 4
 },
 "nbformat": 4,
 "nbformat_minor": 2
}
