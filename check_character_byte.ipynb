{
 "cells": [
  {
   "cell_type": "code",
   "execution_count": 2,
   "metadata": {},
   "outputs": [
    {
     "name": "stdout",
     "output_type": "stream",
     "text": [
      "Line starting at byte 537454654 is not found.\n"
     ]
    }
   ],
   "source": [
    "# funcion para corroborar el caracter en un byte especifico\n",
    "\n",
    "file_path = r'datasets\\location.csv'\n",
    "byte_offset = 537454654\n",
    "\n",
    "with open(file_path, 'rb') as file:\n",
    "    file.seek(byte_offset)\n",
    "    line = file.readline().decode('utf-8')\n",
    "    if line:\n",
    "        print(f\"Line starting at byte {byte_offset}: {line}\")\n",
    "    else:\n",
    "        print(f\"Line starting at byte {byte_offset} is not found.\")"
   ]
  },
  {
   "cell_type": "code",
   "execution_count": 1,
   "metadata": {},
   "outputs": [
    {
     "name": "stdout",
     "output_type": "stream",
     "text": [
      "Byte 537454654 is not found.\n"
     ]
    }
   ],
   "source": [
    "# funcion para corroborar la fila de un df en la cual se encuentra un caracter de un byte especifico\n",
    "\n",
    "file_path = r'datasets\\location.csv'\n",
    "byte_offset = 537454654\n",
    "\n",
    "with open(file_path, 'rb') as file:\n",
    "    file.seek(byte_offset)\n",
    "    byte_contents = file.read(1)\n",
    "\n",
    "    if byte_contents:\n",
    "        print(f\"Byte {byte_offset} contains: {byte_contents.decode('utf-8')}\")\n",
    "    else:\n",
    "        print(f\"Byte {byte_offset} is not found.\")\n"
   ]
  }
 ],
 "metadata": {
  "kernelspec": {
   "display_name": "Python 3",
   "language": "python",
   "name": "python3"
  },
  "language_info": {
   "codemirror_mode": {
    "name": "ipython",
    "version": 3
   },
   "file_extension": ".py",
   "mimetype": "text/x-python",
   "name": "python",
   "nbconvert_exporter": "python",
   "pygments_lexer": "ipython3",
   "version": "3.11.3"
  },
  "orig_nbformat": 4
 },
 "nbformat": 4,
 "nbformat_minor": 2
}
