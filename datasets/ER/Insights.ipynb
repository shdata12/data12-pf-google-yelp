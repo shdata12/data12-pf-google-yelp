{
 "cells": [
  {
   "cell_type": "markdown",
   "metadata": {},
   "source": [
    "Librerias necesarias para el analisis exploratorio"
   ]
  },
  {
   "cell_type": "code",
   "execution_count": 2,
   "metadata": {},
   "outputs": [],
   "source": [
    "import pandas as pd"
   ]
  },
  {
   "cell_type": "markdown",
   "metadata": {},
   "source": [
    "Generamos DF de los comercios"
   ]
  },
  {
   "cell_type": "code",
   "execution_count": 17,
   "metadata": {},
   "outputs": [
    {
     "name": "stdout",
     "output_type": "stream",
     "text": [
      "<class 'pandas.core.frame.DataFrame'>\n",
      "RangeIndex: 23294 entries, 0 to 23293\n",
      "Data columns (total 5 columns):\n",
      " #   Column     Non-Null Count  Dtype  \n",
      "---  ------     --------------  -----  \n",
      " 0   id_shop    23294 non-null  object \n",
      " 1   name       23294 non-null  object \n",
      " 2   stars      23294 non-null  float64\n",
      " 3   source     23294 non-null  int64  \n",
      " 4   id_source  23294 non-null  object \n",
      "dtypes: float64(1), int64(1), object(3)\n",
      "memory usage: 910.1+ KB\n"
     ]
    }
   ],
   "source": [
    "shops = pd.read_csv(r\"shops.csv\", sep=';')\n",
    "shops.info()"
   ]
  },
  {
   "cell_type": "code",
   "execution_count": 4,
   "metadata": {},
   "outputs": [
    {
     "name": "stdout",
     "output_type": "stream",
     "text": [
      "<class 'pandas.core.frame.DataFrame'>\n",
      "RangeIndex: 30155 entries, 0 to 30154\n",
      "Data columns (total 3 columns):\n",
      " #   Column            Non-Null Count  Dtype \n",
      "---  ------            --------------  ----- \n",
      " 0   id_shop           30155 non-null  object\n",
      " 1   id_category       30155 non-null  int64 \n",
      " 2   id_category_shop  30155 non-null  int64 \n",
      "dtypes: int64(2), object(1)\n",
      "memory usage: 706.9+ KB\n"
     ]
    }
   ],
   "source": [
    "category_shop = pd.read_csv(r\"category_shop.csv\", sep=';')\n",
    "category_shop.info()"
   ]
  },
  {
   "cell_type": "code",
   "execution_count": 5,
   "metadata": {},
   "outputs": [
    {
     "name": "stdout",
     "output_type": "stream",
     "text": [
      "<class 'pandas.core.frame.DataFrame'>\n",
      "RangeIndex: 24 entries, 0 to 23\n",
      "Data columns (total 2 columns):\n",
      " #   Column       Non-Null Count  Dtype \n",
      "---  ------       --------------  ----- \n",
      " 0   id_category  24 non-null     int64 \n",
      " 1   category     24 non-null     object\n",
      "dtypes: int64(1), object(1)\n",
      "memory usage: 516.0+ bytes\n"
     ]
    }
   ],
   "source": [
    "category = pd.read_csv(r\"category.csv\", sep=';')\n",
    "category.info()"
   ]
  },
  {
   "cell_type": "code",
   "execution_count": 16,
   "metadata": {},
   "outputs": [
    {
     "name": "stdout",
     "output_type": "stream",
     "text": [
      "<class 'pandas.core.frame.DataFrame'>\n",
      "RangeIndex: 3495730 entries, 0 to 3495729\n",
      "Data columns (total 4 columns):\n",
      " #   Column     Dtype  \n",
      "---  ------     -----  \n",
      " 0   id_user    object \n",
      " 1   user_name  object \n",
      " 2   useful     float64\n",
      " 3   fans       float64\n",
      "dtypes: float64(2), object(2)\n",
      "memory usage: 106.7+ MB\n"
     ]
    }
   ],
   "source": [
    "users = pd.read_csv(r\"users.csv\", sep=';')\n",
    "users.info()"
   ]
  },
  {
   "cell_type": "code",
   "execution_count": 7,
   "metadata": {},
   "outputs": [
    {
     "name": "stdout",
     "output_type": "stream",
     "text": [
      "<class 'pandas.core.frame.DataFrame'>\n",
      "RangeIndex: 23294 entries, 0 to 23293\n",
      "Data columns (total 7 columns):\n",
      " #   Column       Non-Null Count  Dtype  \n",
      "---  ------       --------------  -----  \n",
      " 0   id_shop      23294 non-null  object \n",
      " 1   state        23294 non-null  object \n",
      " 2   latitude     23294 non-null  float64\n",
      " 3   longitude    23294 non-null  float64\n",
      " 4   postal_code  23294 non-null  int64  \n",
      " 5   city         23294 non-null  object \n",
      " 6   address      22935 non-null  object \n",
      "dtypes: float64(2), int64(1), object(4)\n",
      "memory usage: 1.2+ MB\n"
     ]
    }
   ],
   "source": [
    "location = pd.read_csv(r\"location.csv\", sep=';')\n",
    "location.info()"
   ]
  },
  {
   "cell_type": "code",
   "execution_count": 15,
   "metadata": {},
   "outputs": [
    {
     "name": "stdout",
     "output_type": "stream",
     "text": [
      "<class 'pandas.core.frame.DataFrame'>\n",
      "RangeIndex: 23294 entries, 0 to 23293\n",
      "Data columns (total 5 columns):\n",
      " #   Column     Non-Null Count  Dtype  \n",
      "---  ------     --------------  -----  \n",
      " 0   id_shop    23294 non-null  object \n",
      " 1   name       23294 non-null  object \n",
      " 2   stars      23294 non-null  float64\n",
      " 3   source     23294 non-null  int64  \n",
      " 4   id_source  23294 non-null  object \n",
      "dtypes: float64(1), int64(1), object(3)\n",
      "memory usage: 910.1+ KB\n"
     ]
    }
   ],
   "source": [
    "shops.info()"
   ]
  },
  {
   "cell_type": "code",
   "execution_count": 9,
   "metadata": {},
   "outputs": [
    {
     "data": {
      "text/html": [
       "<div>\n",
       "<style scoped>\n",
       "    .dataframe tbody tr th:only-of-type {\n",
       "        vertical-align: middle;\n",
       "    }\n",
       "\n",
       "    .dataframe tbody tr th {\n",
       "        vertical-align: top;\n",
       "    }\n",
       "\n",
       "    .dataframe thead th {\n",
       "        text-align: right;\n",
       "    }\n",
       "</style>\n",
       "<table border=\"1\" class=\"dataframe\">\n",
       "  <thead>\n",
       "    <tr style=\"text-align: right;\">\n",
       "      <th></th>\n",
       "      <th>id_hotel</th>\n",
       "      <th>state</th>\n",
       "      <th>city</th>\n",
       "      <th>hotel_name</th>\n",
       "      <th>latitude</th>\n",
       "      <th>longitude</th>\n",
       "      <th>address</th>\n",
       "      <th>postal_code</th>\n",
       "    </tr>\n",
       "  </thead>\n",
       "  <tbody>\n",
       "    <tr>\n",
       "      <th>0</th>\n",
       "      <td>1</td>\n",
       "      <td>FL</td>\n",
       "      <td>Clearwater</td>\n",
       "      <td>Hilton Clearwater Beach Resort &amp; Spa</td>\n",
       "      <td>27.97880</td>\n",
       "      <td>-82.82781</td>\n",
       "      <td>400 Mandalay Ave</td>\n",
       "      <td>33767</td>\n",
       "    </tr>\n",
       "    <tr>\n",
       "      <th>1</th>\n",
       "      <td>2</td>\n",
       "      <td>FL</td>\n",
       "      <td>Miami</td>\n",
       "      <td>Hilton Garden Inn Miami South Beach</td>\n",
       "      <td>25.80599</td>\n",
       "      <td>-80.12496</td>\n",
       "      <td>2940 Collins Ave</td>\n",
       "      <td>33140</td>\n",
       "    </tr>\n",
       "    <tr>\n",
       "      <th>2</th>\n",
       "      <td>3</td>\n",
       "      <td>FL</td>\n",
       "      <td>North Redington Beach</td>\n",
       "      <td>DoubleTree Beach Resort by Hilton Hotel Tampa ...</td>\n",
       "      <td>27.81966</td>\n",
       "      <td>-82.82564</td>\n",
       "      <td>17120 Gulf Blvd</td>\n",
       "      <td>33708</td>\n",
       "    </tr>\n",
       "    <tr>\n",
       "      <th>3</th>\n",
       "      <td>4</td>\n",
       "      <td>FL</td>\n",
       "      <td>St Pete Beach</td>\n",
       "      <td>Hilton Garden Inn St. Pete Beach</td>\n",
       "      <td>27.73286</td>\n",
       "      <td>-82.74684</td>\n",
       "      <td>6100 Gulf Blvd</td>\n",
       "      <td>33706</td>\n",
       "    </tr>\n",
       "    <tr>\n",
       "      <th>4</th>\n",
       "      <td>5</td>\n",
       "      <td>FL</td>\n",
       "      <td>St Petersburg</td>\n",
       "      <td>Hilton St. Petersburg Carillon Park</td>\n",
       "      <td>27.89061</td>\n",
       "      <td>-82.66579</td>\n",
       "      <td>950 Lake Carillon Dr</td>\n",
       "      <td>33716</td>\n",
       "    </tr>\n",
       "    <tr>\n",
       "      <th>5</th>\n",
       "      <td>6</td>\n",
       "      <td>FL</td>\n",
       "      <td>St Petersburg</td>\n",
       "      <td>Hilton St. Petersburg Bayfront</td>\n",
       "      <td>27.76768</td>\n",
       "      <td>-82.63474</td>\n",
       "      <td>333 1st St SE</td>\n",
       "      <td>33701</td>\n",
       "    </tr>\n",
       "    <tr>\n",
       "      <th>6</th>\n",
       "      <td>7</td>\n",
       "      <td>NV</td>\n",
       "      <td>Las Vegas</td>\n",
       "      <td>Hilton Grand Vacations Club on the Las Vegas S...</td>\n",
       "      <td>36.14010</td>\n",
       "      <td>-115.16093</td>\n",
       "      <td>2650 Las Vegas Blvd S</td>\n",
       "      <td>89109</td>\n",
       "    </tr>\n",
       "    <tr>\n",
       "      <th>7</th>\n",
       "      <td>8</td>\n",
       "      <td>NV</td>\n",
       "      <td>Paradise</td>\n",
       "      <td>Hilton Garden Inn Las Vegas City Center</td>\n",
       "      <td>36.10601</td>\n",
       "      <td>-115.18219</td>\n",
       "      <td>4655 Dean Martin Dr</td>\n",
       "      <td>89103</td>\n",
       "    </tr>\n",
       "    <tr>\n",
       "      <th>8</th>\n",
       "      <td>9</td>\n",
       "      <td>NV</td>\n",
       "      <td>Sparks</td>\n",
       "      <td>Hampton Inn &amp; Suites Reno/Sparks</td>\n",
       "      <td>39.53293</td>\n",
       "      <td>-119.72390</td>\n",
       "      <td>200 Legends Bay Drive</td>\n",
       "      <td>89434</td>\n",
       "    </tr>\n",
       "    <tr>\n",
       "      <th>9</th>\n",
       "      <td>10</td>\n",
       "      <td>NV</td>\n",
       "      <td>Reno</td>\n",
       "      <td>Hampton Inn &amp; Suites Reno</td>\n",
       "      <td>39.42831</td>\n",
       "      <td>-119.75510</td>\n",
       "      <td>10599 Professional Cir</td>\n",
       "      <td>89511</td>\n",
       "    </tr>\n",
       "    <tr>\n",
       "      <th>10</th>\n",
       "      <td>11</td>\n",
       "      <td>NV</td>\n",
       "      <td>Reno</td>\n",
       "      <td>Home2 Suites by Hilton Reno</td>\n",
       "      <td>39.47654</td>\n",
       "      <td>-119.78664</td>\n",
       "      <td>1111 Meadowood Mall Link</td>\n",
       "      <td>89502</td>\n",
       "    </tr>\n",
       "    <tr>\n",
       "      <th>11</th>\n",
       "      <td>12</td>\n",
       "      <td>NV</td>\n",
       "      <td>Reno</td>\n",
       "      <td>Hilton Garden Inn Reno</td>\n",
       "      <td>39.44047</td>\n",
       "      <td>-119.75840</td>\n",
       "      <td>9920 Double R Blvd</td>\n",
       "      <td>89521</td>\n",
       "    </tr>\n",
       "    <tr>\n",
       "      <th>12</th>\n",
       "      <td>13</td>\n",
       "      <td>CA</td>\n",
       "      <td>Los Angeles</td>\n",
       "      <td>Hilton Los Angeles/Universal City</td>\n",
       "      <td>34.13719</td>\n",
       "      <td>-118.35841</td>\n",
       "      <td>555 Universal Hollywood Dr</td>\n",
       "      <td>91608</td>\n",
       "    </tr>\n",
       "    <tr>\n",
       "      <th>13</th>\n",
       "      <td>14</td>\n",
       "      <td>CA</td>\n",
       "      <td>Santa Barbara</td>\n",
       "      <td>Hilton Santa Barbara Beachfront Resort</td>\n",
       "      <td>34.41688</td>\n",
       "      <td>-119.67653</td>\n",
       "      <td>633 E Cabrillo Blvd</td>\n",
       "      <td>93103</td>\n",
       "    </tr>\n",
       "    <tr>\n",
       "      <th>14</th>\n",
       "      <td>15</td>\n",
       "      <td>CA</td>\n",
       "      <td>Santa Barbara</td>\n",
       "      <td>Hotel Virginia Santa Barbara, Tapestry Collect...</td>\n",
       "      <td>34.41628</td>\n",
       "      <td>-119.69590</td>\n",
       "      <td>17 W Haley St</td>\n",
       "      <td>93101</td>\n",
       "    </tr>\n",
       "    <tr>\n",
       "      <th>15</th>\n",
       "      <td>16</td>\n",
       "      <td>CA</td>\n",
       "      <td>Goleta</td>\n",
       "      <td>Hilton Garden Inn Santa Barbara/Goleta</td>\n",
       "      <td>34.43090</td>\n",
       "      <td>-119.86882</td>\n",
       "      <td>6878 Hollister Ave</td>\n",
       "      <td>93117</td>\n",
       "    </tr>\n",
       "    <tr>\n",
       "      <th>16</th>\n",
       "      <td>17</td>\n",
       "      <td>CA</td>\n",
       "      <td>Santa Clara</td>\n",
       "      <td>Embassy Suites by Hilton Santa Clara Silicon V...</td>\n",
       "      <td>37.38405</td>\n",
       "      <td>-121.97863</td>\n",
       "      <td>2885 Lakeside Dr</td>\n",
       "      <td>95054</td>\n",
       "    </tr>\n",
       "    <tr>\n",
       "      <th>17</th>\n",
       "      <td>18</td>\n",
       "      <td>CA</td>\n",
       "      <td>Truckee</td>\n",
       "      <td>Hampton Inn &amp; Suites Tahoe-Truckee</td>\n",
       "      <td>39.31790</td>\n",
       "      <td>-120.15239</td>\n",
       "      <td>11951 CA-267</td>\n",
       "      <td>96161</td>\n",
       "    </tr>\n",
       "  </tbody>\n",
       "</table>\n",
       "</div>"
      ],
      "text/plain": [
       "    id_hotel state                   city  \\\n",
       "0          1    FL             Clearwater   \n",
       "1          2    FL                  Miami   \n",
       "2          3    FL  North Redington Beach   \n",
       "3          4    FL          St Pete Beach   \n",
       "4          5    FL          St Petersburg   \n",
       "5          6    FL          St Petersburg   \n",
       "6          7    NV              Las Vegas   \n",
       "7          8    NV               Paradise   \n",
       "8          9    NV                 Sparks   \n",
       "9         10    NV                   Reno   \n",
       "10        11    NV                   Reno   \n",
       "11        12    NV                   Reno   \n",
       "12        13    CA            Los Angeles   \n",
       "13        14    CA          Santa Barbara   \n",
       "14        15    CA          Santa Barbara   \n",
       "15        16    CA                 Goleta   \n",
       "16        17    CA            Santa Clara   \n",
       "17        18    CA                Truckee   \n",
       "\n",
       "                                           hotel_name  latitude  longitude  \\\n",
       "0                Hilton Clearwater Beach Resort & Spa  27.97880  -82.82781   \n",
       "1                 Hilton Garden Inn Miami South Beach  25.80599  -80.12496   \n",
       "2   DoubleTree Beach Resort by Hilton Hotel Tampa ...  27.81966  -82.82564   \n",
       "3                    Hilton Garden Inn St. Pete Beach  27.73286  -82.74684   \n",
       "4                 Hilton St. Petersburg Carillon Park  27.89061  -82.66579   \n",
       "5                      Hilton St. Petersburg Bayfront  27.76768  -82.63474   \n",
       "6   Hilton Grand Vacations Club on the Las Vegas S...  36.14010 -115.16093   \n",
       "7             Hilton Garden Inn Las Vegas City Center  36.10601 -115.18219   \n",
       "8                    Hampton Inn & Suites Reno/Sparks  39.53293 -119.72390   \n",
       "9                           Hampton Inn & Suites Reno  39.42831 -119.75510   \n",
       "10                        Home2 Suites by Hilton Reno  39.47654 -119.78664   \n",
       "11                             Hilton Garden Inn Reno  39.44047 -119.75840   \n",
       "12                  Hilton Los Angeles/Universal City  34.13719 -118.35841   \n",
       "13             Hilton Santa Barbara Beachfront Resort  34.41688 -119.67653   \n",
       "14  Hotel Virginia Santa Barbara, Tapestry Collect...  34.41628 -119.69590   \n",
       "15             Hilton Garden Inn Santa Barbara/Goleta  34.43090 -119.86882   \n",
       "16  Embassy Suites by Hilton Santa Clara Silicon V...  37.38405 -121.97863   \n",
       "17                 Hampton Inn & Suites Tahoe-Truckee  39.31790 -120.15239   \n",
       "\n",
       "                       address  postal_code  \n",
       "0             400 Mandalay Ave        33767  \n",
       "1             2940 Collins Ave        33140  \n",
       "2              17120 Gulf Blvd        33708  \n",
       "3               6100 Gulf Blvd        33706  \n",
       "4         950 Lake Carillon Dr        33716  \n",
       "5                333 1st St SE        33701  \n",
       "6        2650 Las Vegas Blvd S        89109  \n",
       "7          4655 Dean Martin Dr        89103  \n",
       "8        200 Legends Bay Drive        89434  \n",
       "9       10599 Professional Cir        89511  \n",
       "10    1111 Meadowood Mall Link        89502  \n",
       "11          9920 Double R Blvd        89521  \n",
       "12  555 Universal Hollywood Dr        91608  \n",
       "13         633 E Cabrillo Blvd        93103  \n",
       "14               17 W Haley St        93101  \n",
       "15          6878 Hollister Ave        93117  \n",
       "16            2885 Lakeside Dr        95054  \n",
       "17                11951 CA-267        96161  "
      ]
     },
     "execution_count": 9,
     "metadata": {},
     "output_type": "execute_result"
    }
   ],
   "source": [
    "hotels = pd.read_csv(r\"ML_Hilton_hotels.csv\", sep=';')\n",
    "hotels.head(20)\n"
   ]
  },
  {
   "cell_type": "code",
   "execution_count": 10,
   "metadata": {},
   "outputs": [
    {
     "name": "stdout",
     "output_type": "stream",
     "text": [
      "<class 'pandas.core.frame.DataFrame'>\n",
      "RangeIndex: 132647 entries, 0 to 132646\n",
      "Data columns (total 5 columns):\n",
      " #   Column      Non-Null Count   Dtype \n",
      "---  ------      --------------   ----- \n",
      " 0   id_time     132647 non-null  int64 \n",
      " 1   day_name    132647 non-null  object\n",
      " 2   open_time   127743 non-null  object\n",
      " 3   close_time  127743 non-null  object\n",
      " 4   id_shop     132647 non-null  object\n",
      "dtypes: int64(1), object(4)\n",
      "memory usage: 5.1+ MB\n"
     ]
    }
   ],
   "source": [
    "day_time = pd.read_csv(r\"day_time.csv\", sep=';')\n",
    "day_time.info()"
   ]
  },
  {
   "cell_type": "code",
   "execution_count": 14,
   "metadata": {},
   "outputs": [
    {
     "name": "stdout",
     "output_type": "stream",
     "text": [
      "<class 'pandas.core.frame.DataFrame'>\n",
      "RangeIndex: 2942585 entries, 0 to 2942584\n",
      "Data columns (total 3 columns):\n",
      " #   Column      Dtype \n",
      "---  ------      ----- \n",
      " 0   id_checkin  int64 \n",
      " 1   id_source   object\n",
      " 2   id_date     object\n",
      "dtypes: int64(1), object(2)\n",
      "memory usage: 67.4+ MB\n"
     ]
    }
   ],
   "source": [
    "checkin = pd.read_csv(r\"checkin.csv\", sep=';')\n",
    "checkin.info()"
   ]
  },
  {
   "cell_type": "code",
   "execution_count": 12,
   "metadata": {},
   "outputs": [],
   "source": [
    "checkin_calendar = checkin[['id_date']].copy()\n",
    "checkin_calendar.to_csv('checkin_calendar.csv', sep=';', index=False)"
   ]
  },
  {
   "cell_type": "code",
   "execution_count": 13,
   "metadata": {},
   "outputs": [
    {
     "name": "stdout",
     "output_type": "stream",
     "text": [
      "<class 'pandas.core.frame.DataFrame'>\n",
      "RangeIndex: 1694483 entries, 0 to 1694482\n",
      "Data columns (total 7 columns):\n",
      " #   Column      Dtype  \n",
      "---  ------      -----  \n",
      " 0   id_reviews  object \n",
      " 1   id_user     object \n",
      " 2   id_source   object \n",
      " 3   stars       int64  \n",
      " 4   id_date     object \n",
      " 5   likes       float64\n",
      " 6   source      int64  \n",
      "dtypes: float64(1), int64(2), object(4)\n",
      "memory usage: 90.5+ MB\n"
     ]
    }
   ],
   "source": [
    "reviews = pd.read_csv(r'reviews.csv', sep=';')\n",
    "reviews.info()"
   ]
  },
  {
   "cell_type": "code",
   "execution_count": 11,
   "metadata": {},
   "outputs": [],
   "source": [
    "reviews_calendar = reviews[['id_date']].copy()\n",
    "reviews_calendar.to_csv('reviews_calendar.csv', sep=';', index=False)"
   ]
  },
  {
   "cell_type": "code",
   "execution_count": 19,
   "metadata": {},
   "outputs": [
    {
     "data": {
      "image/png": "[encoded data removed]",
      "text/plain": [
       "<Figure size 800x600 with 1 Axes>"
      ]
     },
     "metadata": {},
     "output_type": "display_data"
    }
   ],
   "source": [
    "import seaborn as sns\n",
    "import matplotlib.pyplot as plt\n",
    "\n",
    "# Crear el histograma de calificaciones de reseñas\n",
    "plt.figure(figsize=(8, 6))\n",
    "sns.histplot(data=reviews, x='stars', bins=5, kde=False, color='blue')\n",
    "\n",
    "# Personalizar el gráfico\n",
    "plt.title('Distribución de Calificaciones de Reseñas')\n",
    "plt.xlabel('Calificación')\n",
    "plt.ylabel('Frecuencia')\n",
    "plt.xticks([1, 2, 3, 4, 5])  # Definir los valores del eje x\n",
    "\n",
    "# Mostrar el gráfico\n",
    "plt.show()\n"
   ]
  },
  {
   "cell_type": "code",
   "execution_count": 28,
   "metadata": {},
   "outputs": [
    {
     "data": {
      "image/png": "[encoded data removed]",
      "text/plain": [
       "<Figure size 1000x600 with 1 Axes>"
      ]
     },
     "metadata": {},
     "output_type": "display_data"
    }
   ],
   "source": [
    "import pandas as pd\n",
    "import matplotlib.pyplot as plt\n",
    "\n",
    "# Combinar las tablas CATEGORY_SHOP y CATEGORY para obtener el nombre de la categoría\n",
    "category_counts = category_shop.merge(category, on='id_category')['category'].value_counts()\n",
    "\n",
    "# Crear una figura para la visualización\n",
    "plt.figure(figsize=(10, 6))\n",
    "\n",
    "# Crear el gráfico de barras\n",
    "category_counts.plot(kind='bar', color='skyblue', ax=plt.gca())\n",
    "\n",
    "# Personalizar el gráfico\n",
    "plt.title(\"Cantidad de Tiendas por Categoría\")\n",
    "plt.xlabel(\"Categoría\")\n",
    "plt.ylabel(\"Cantidad de Tiendas\")\n",
    "plt.xticks(rotation=45)\n",
    "plt.grid()\n",
    "\n",
    "# Mostrar el gráfico\n",
    "plt.tight_layout()\n",
    "plt.show()\n",
    "\n"
   ]
  },
  {
   "cell_type": "code",
   "execution_count": 42,
   "metadata": {},
   "outputs": [],
   "source": [
    "plt.rcParams.update(plt.rcParamsDefault)\n",
    "plt.show(block=True)\n",
    "%matplotlib inline\n"
   ]
  },
  {
   "cell_type": "code",
   "execution_count": 52,
   "metadata": {},
   "outputs": [
    {
     "ename": "ValueError",
     "evalue": "Mime type rendering requires nbformat>=4.2.0 but it is not installed",
     "output_type": "error",
     "traceback": [
      "\u001b[1;31m---------------------------------------------------------------------------\u001b[0m",
      "\u001b[1;31mValueError\u001b[0m                                Traceback (most recent call last)",
      "Cell \u001b[1;32mIn[52], line 23\u001b[0m\n\u001b[0;32m     11\u001b[0m fig \u001b[39m=\u001b[39m px\u001b[39m.\u001b[39mscatter_geo(\n\u001b[0;32m     12\u001b[0m     location_data,\n\u001b[0;32m     13\u001b[0m     lat\u001b[39m=\u001b[39m\u001b[39m'\u001b[39m\u001b[39mlatitude\u001b[39m\u001b[39m'\u001b[39m,\n\u001b[1;32m   (...)\u001b[0m\n\u001b[0;32m     19\u001b[0m     title\u001b[39m=\u001b[39m\u001b[39m'\u001b[39m\u001b[39mMapa de Calificaciones Promedio por Ubicación\u001b[39m\u001b[39m'\u001b[39m\n\u001b[0;32m     20\u001b[0m )\n\u001b[0;32m     22\u001b[0m \u001b[39m# Mostrar el mapa interactivo\u001b[39;00m\n\u001b[1;32m---> 23\u001b[0m fig\u001b[39m.\u001b[39;49mshow()\n",
      "File \u001b[1;32mc:\\Users\\mpvac\\AppData\\Local\\Programs\\Python\\Python311\\Lib\\site-packages\\plotly\\basedatatypes.py:3409\u001b[0m, in \u001b[0;36mBaseFigure.show\u001b[1;34m(self, *args, **kwargs)\u001b[0m\n\u001b[0;32m   3376\u001b[0m \u001b[39m\u001b[39m\u001b[39m\"\"\"\u001b[39;00m\n\u001b[0;32m   3377\u001b[0m \u001b[39mShow a figure using either the default renderer(s) or the renderer(s)\u001b[39;00m\n\u001b[0;32m   3378\u001b[0m \u001b[39mspecified by the renderer argument\u001b[39;00m\n\u001b[1;32m   (...)\u001b[0m\n\u001b[0;32m   3405\u001b[0m \u001b[39mNone\u001b[39;00m\n\u001b[0;32m   3406\u001b[0m \u001b[39m\"\"\"\u001b[39;00m\n\u001b[0;32m   3407\u001b[0m \u001b[39mimport\u001b[39;00m \u001b[39mplotly\u001b[39;00m\u001b[39m.\u001b[39;00m\u001b[39mio\u001b[39;00m \u001b[39mas\u001b[39;00m \u001b[39mpio\u001b[39;00m\n\u001b[1;32m-> 3409\u001b[0m \u001b[39mreturn\u001b[39;00m pio\u001b[39m.\u001b[39;49mshow(\u001b[39mself\u001b[39;49m, \u001b[39m*\u001b[39;49margs, \u001b[39m*\u001b[39;49m\u001b[39m*\u001b[39;49mkwargs)\n",
      "File \u001b[1;32mc:\\Users\\mpvac\\AppData\\Local\\Programs\\Python\\Python311\\Lib\\site-packages\\plotly\\io\\_renderers.py:396\u001b[0m, in \u001b[0;36mshow\u001b[1;34m(fig, renderer, validate, **kwargs)\u001b[0m\n\u001b[0;32m    391\u001b[0m         \u001b[39mraise\u001b[39;00m \u001b[39mValueError\u001b[39;00m(\n\u001b[0;32m    392\u001b[0m             \u001b[39m\"\u001b[39m\u001b[39mMime type rendering requires ipython but it is not installed\u001b[39m\u001b[39m\"\u001b[39m\n\u001b[0;32m    393\u001b[0m         )\n\u001b[0;32m    395\u001b[0m     \u001b[39mif\u001b[39;00m \u001b[39mnot\u001b[39;00m nbformat \u001b[39mor\u001b[39;00m Version(nbformat\u001b[39m.\u001b[39m__version__) \u001b[39m<\u001b[39m Version(\u001b[39m\"\u001b[39m\u001b[39m4.2.0\u001b[39m\u001b[39m\"\u001b[39m):\n\u001b[1;32m--> 396\u001b[0m         \u001b[39mraise\u001b[39;00m \u001b[39mValueError\u001b[39;00m(\n\u001b[0;32m    397\u001b[0m             \u001b[39m\"\u001b[39m\u001b[39mMime type rendering requires nbformat>=4.2.0 but it is not installed\u001b[39m\u001b[39m\"\u001b[39m\n\u001b[0;32m    398\u001b[0m         )\n\u001b[0;32m    400\u001b[0m     ipython_display\u001b[39m.\u001b[39mdisplay(bundle, raw\u001b[39m=\u001b[39m\u001b[39mTrue\u001b[39;00m)\n\u001b[0;32m    402\u001b[0m \u001b[39m# external renderers\u001b[39;00m\n",
      "\u001b[1;31mValueError\u001b[0m: Mime type rendering requires nbformat>=4.2.0 but it is not installed"
     ]
    }
   ],
   "source": [
    "import pandas as pd\n",
    "import plotly.express as px\n",
    "\n",
    "# Cargar los datos en las tablas correspondientes (reemplaza con tus datos)\n",
    "# ...\n",
    "\n",
    "# Combinar los datos de ubicación y calificaciones promedio\n",
    "location_data = location.merge(shops[['id_shop', 'stars']], on='id_shop')\n",
    "\n",
    "# Crear un mapa interactivo utilizando Plotly\n",
    "fig = px.scatter_geo(\n",
    "    location_data,\n",
    "    lat='latitude',\n",
    "    lon='longitude',\n",
    "    color='stars',\n",
    "    color_continuous_scale='Viridis',  # Cambio de escala de colores\n",
    "    size='stars',\n",
    "    hover_name='id_shop',\n",
    "    title='Mapa de Calificaciones Promedio por Ubicación'\n",
    ")\n",
    "\n",
    "# Mostrar el mapa interactivo\n",
    "fig.show()\n",
    "\n"
   ]
  },
  {
   "cell_type": "code",
   "execution_count": 48,
   "metadata": {},
   "outputs": [
    {
     "ename": "NameError",
     "evalue": "name 'folium' is not defined",
     "output_type": "error",
     "traceback": [
      "\u001b[1;31m---------------------------------------------------------------------------\u001b[0m",
      "\u001b[1;31mNameError\u001b[0m                                 Traceback (most recent call last)",
      "Cell \u001b[1;32mIn[48], line 4\u001b[0m\n\u001b[0;32m      1\u001b[0m \u001b[39mfrom\u001b[39;00m \u001b[39mfolium\u001b[39;00m\u001b[39m.\u001b[39;00m\u001b[39mplugins\u001b[39;00m \u001b[39mimport\u001b[39;00m MarkerCluster\n\u001b[0;32m      3\u001b[0m \u001b[39m# Crear un mapa centrado en una ubicación inicial\u001b[39;00m\n\u001b[1;32m----> 4\u001b[0m m \u001b[39m=\u001b[39m folium\u001b[39m.\u001b[39mMap(location\u001b[39m=\u001b[39m[\u001b[39m40.7128\u001b[39m, \u001b[39m-\u001b[39m\u001b[39m74.0060\u001b[39m], zoom_start\u001b[39m=\u001b[39m\u001b[39m10\u001b[39m)\n\u001b[0;32m      6\u001b[0m \u001b[39m# Crear un grupo de marcadores\u001b[39;00m\n\u001b[0;32m      7\u001b[0m marker_cluster \u001b[39m=\u001b[39m MarkerCluster()\u001b[39m.\u001b[39madd_to(m)\n",
      "\u001b[1;31mNameError\u001b[0m: name 'folium' is not defined"
     ]
    }
   ],
   "source": [
    "from folium.plugins import MarkerCluster\n",
    "\n",
    "# Crear un mapa centrado en una ubicación inicial\n",
    "m = folium.Map(location=[40.7128, -74.0060], zoom_start=10)\n",
    "\n",
    "# Crear un grupo de marcadores\n",
    "marker_cluster = MarkerCluster().add_to(m)\n",
    "\n",
    "# Iterar a través de los datos de la tabla LOCATION\n",
    "for index, row in location_data.iterrows():\n",
    "    # Obtener la información necesaria\n",
    "    lat = row['latitude']\n",
    "    lon = row['longitude']\n",
    "    rating = row['stars']\n",
    "    \n",
    "    # Crear un marcador con el color basado en la calificación promedio\n",
    "    if rating >= 4.5:\n",
    "        color = 'green'\n",
    "    elif rating >= 3.0:\n",
    "        color = 'orange'\n",
    "    else:\n",
    "        color = 'red'\n",
    "        \n",
    "    folium.Marker(\n",
    "        location=[lat, lon],\n",
    "        popup=f\"Calificación Promedio: {rating}\",\n",
    "        icon=folium.Icon(color=color)\n",
    "    ).add_to(marker_cluster)\n",
    "\n",
    "# Mostrar el mapa\n",
    "m.save('mapa_calificaciones.html')"
   ]
  }
 ],
 "metadata": {
  "kernelspec": {
   "display_name": "Python 3",
   "language": "python",
   "name": "python3"
  },
  "language_info": {
   "codemirror_mode": {
    "name": "ipython",
    "version": 3
   },
   "file_extension": ".py",
   "mimetype": "text/x-python",
   "name": "python",
   "nbconvert_exporter": "python",
   "pygments_lexer": "ipython3",
   "version": "3.11.4"
  },
  "orig_nbformat": 4
 },
 "nbformat": 4,
 "nbformat_minor": 2
}
