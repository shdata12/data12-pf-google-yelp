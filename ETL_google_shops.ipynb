{
 "cells": [
  {
   "cell_type": "code",
   "execution_count": 1,
   "metadata": {
    "is_executing": true,
    "tags": []
   },
   "outputs": [],
   "source": [
    "import pandas as pd\n",
    "import json\n",
    "import hashlib\n",
    "import numpy as np\n",
    "\n",
    "pd.set_option('display.max_columns', None)\n",
    "pd.set_option('display.expand_frame_repr', False)\n",
    "\n",
    "\n",
    "# Genero variables con las rutas de los archivos y los coloco en una lista\n",
    "\n",
    "json1 = r\"datasets\\originals\\google_places\\1.json\"\n",
    "json2 = r\"datasets\\originals\\google_places\\2.json\"\n",
    "json3 = r\"datasets\\originals\\google_places\\3.json\"\n",
    "json4 = r\"datasets\\originals\\google_places\\4.json\"\n",
    "json5 = r\"datasets\\originals\\google_places\\5.json\"\n",
    "json6 = r\"datasets\\originals\\google_places\\6.json\"\n",
    "json7 = r\"datasets\\originals\\google_places\\7.json\"\n",
    "json8 = r\"datasets\\originals\\google_places\\8.json\"\n",
    "json9 = r\"datasets\\originals\\google_places\\9.json\"\n",
    "json10 = r\"datasets\\originals\\google_places\\10.json\"\n",
    "json11 = r\"datasets\\originals\\google_places\\11.json\""
   ]
  },
  {
   "cell_type": "code",
   "execution_count": 2,
   "metadata": {},
   "outputs": [
    {
     "ename": "FileNotFoundError",
     "evalue": "[Errno 2] No such file or directory: 'datasets\\\\Marriott_Hotels.csv'",
     "output_type": "error",
     "traceback": [
      "\u001b[1;31m---------------------------------------------------------------------------\u001b[0m",
      "\u001b[1;31mFileNotFoundError\u001b[0m                         Traceback (most recent call last)",
      "Cell \u001b[1;32mIn[2], line 3\u001b[0m\n\u001b[0;32m      1\u001b[0m json_list \u001b[39m=\u001b[39m [json1, json2, json3, json4, json5, json6, json7, json8, json9, json10, json11]\n\u001b[1;32m----> 3\u001b[0m marriot_hotels \u001b[39m=\u001b[39m pd\u001b[39m.\u001b[39;49mread_csv(\u001b[39mr\u001b[39;49m\u001b[39m\"\u001b[39;49m\u001b[39mdatasets\u001b[39;49m\u001b[39m\\\u001b[39;49m\u001b[39mMarriott_Hotels.csv\u001b[39;49m\u001b[39m\"\u001b[39;49m, encoding\u001b[39m=\u001b[39;49m\u001b[39m'\u001b[39;49m\u001b[39mlatin1\u001b[39;49m\u001b[39m'\u001b[39;49m, sep\u001b[39m=\u001b[39;49m\u001b[39m\"\u001b[39;49m\u001b[39m;\u001b[39;49m\u001b[39m\"\u001b[39;49m)\n\u001b[0;32m      5\u001b[0m id_category \u001b[39m=\u001b[39m categories_df \u001b[39m=\u001b[39m pd\u001b[39m.\u001b[39mread_csv(\u001b[39m\"\u001b[39m\u001b[39mdatasets\u001b[39m\u001b[39m\\\u001b[39m\u001b[39mdataw\u001b[39m\u001b[39m\\\u001b[39m\u001b[39mcategorias.csv\u001b[39m\u001b[39m\"\u001b[39m, encoding\u001b[39m=\u001b[39m\u001b[39m'\u001b[39m\u001b[39mlatin1\u001b[39m\u001b[39m'\u001b[39m, sep\u001b[39m=\u001b[39m\u001b[39m\"\u001b[39m\u001b[39m,\u001b[39m\u001b[39m\"\u001b[39m)\n",
      "File \u001b[1;32mc:\\Users\\mpvac\\AppData\\Local\\Programs\\Python\\Python311\\Lib\\site-packages\\pandas\\io\\parsers\\readers.py:912\u001b[0m, in \u001b[0;36mread_csv\u001b[1;34m(filepath_or_buffer, sep, delimiter, header, names, index_col, usecols, dtype, engine, converters, true_values, false_values, skipinitialspace, skiprows, skipfooter, nrows, na_values, keep_default_na, na_filter, verbose, skip_blank_lines, parse_dates, infer_datetime_format, keep_date_col, date_parser, date_format, dayfirst, cache_dates, iterator, chunksize, compression, thousands, decimal, lineterminator, quotechar, quoting, doublequote, escapechar, comment, encoding, encoding_errors, dialect, on_bad_lines, delim_whitespace, low_memory, memory_map, float_precision, storage_options, dtype_backend)\u001b[0m\n\u001b[0;32m    899\u001b[0m kwds_defaults \u001b[39m=\u001b[39m _refine_defaults_read(\n\u001b[0;32m    900\u001b[0m     dialect,\n\u001b[0;32m    901\u001b[0m     delimiter,\n\u001b[1;32m   (...)\u001b[0m\n\u001b[0;32m    908\u001b[0m     dtype_backend\u001b[39m=\u001b[39mdtype_backend,\n\u001b[0;32m    909\u001b[0m )\n\u001b[0;32m    910\u001b[0m kwds\u001b[39m.\u001b[39mupdate(kwds_defaults)\n\u001b[1;32m--> 912\u001b[0m \u001b[39mreturn\u001b[39;00m _read(filepath_or_buffer, kwds)\n",
      "File \u001b[1;32mc:\\Users\\mpvac\\AppData\\Local\\Programs\\Python\\Python311\\Lib\\site-packages\\pandas\\io\\parsers\\readers.py:577\u001b[0m, in \u001b[0;36m_read\u001b[1;34m(filepath_or_buffer, kwds)\u001b[0m\n\u001b[0;32m    574\u001b[0m _validate_names(kwds\u001b[39m.\u001b[39mget(\u001b[39m\"\u001b[39m\u001b[39mnames\u001b[39m\u001b[39m\"\u001b[39m, \u001b[39mNone\u001b[39;00m))\n\u001b[0;32m    576\u001b[0m \u001b[39m# Create the parser.\u001b[39;00m\n\u001b[1;32m--> 577\u001b[0m parser \u001b[39m=\u001b[39m TextFileReader(filepath_or_buffer, \u001b[39m*\u001b[39;49m\u001b[39m*\u001b[39;49mkwds)\n\u001b[0;32m    579\u001b[0m \u001b[39mif\u001b[39;00m chunksize \u001b[39mor\u001b[39;00m iterator:\n\u001b[0;32m    580\u001b[0m     \u001b[39mreturn\u001b[39;00m parser\n",
      "File \u001b[1;32mc:\\Users\\mpvac\\AppData\\Local\\Programs\\Python\\Python311\\Lib\\site-packages\\pandas\\io\\parsers\\readers.py:1407\u001b[0m, in \u001b[0;36mTextFileReader.__init__\u001b[1;34m(self, f, engine, **kwds)\u001b[0m\n\u001b[0;32m   1404\u001b[0m     \u001b[39mself\u001b[39m\u001b[39m.\u001b[39moptions[\u001b[39m\"\u001b[39m\u001b[39mhas_index_names\u001b[39m\u001b[39m\"\u001b[39m] \u001b[39m=\u001b[39m kwds[\u001b[39m\"\u001b[39m\u001b[39mhas_index_names\u001b[39m\u001b[39m\"\u001b[39m]\n\u001b[0;32m   1406\u001b[0m \u001b[39mself\u001b[39m\u001b[39m.\u001b[39mhandles: IOHandles \u001b[39m|\u001b[39m \u001b[39mNone\u001b[39;00m \u001b[39m=\u001b[39m \u001b[39mNone\u001b[39;00m\n\u001b[1;32m-> 1407\u001b[0m \u001b[39mself\u001b[39m\u001b[39m.\u001b[39m_engine \u001b[39m=\u001b[39m \u001b[39mself\u001b[39;49m\u001b[39m.\u001b[39;49m_make_engine(f, \u001b[39mself\u001b[39;49m\u001b[39m.\u001b[39;49mengine)\n",
      "File \u001b[1;32mc:\\Users\\mpvac\\AppData\\Local\\Programs\\Python\\Python311\\Lib\\site-packages\\pandas\\io\\parsers\\readers.py:1661\u001b[0m, in \u001b[0;36mTextFileReader._make_engine\u001b[1;34m(self, f, engine)\u001b[0m\n\u001b[0;32m   1659\u001b[0m     \u001b[39mif\u001b[39;00m \u001b[39m\"\u001b[39m\u001b[39mb\u001b[39m\u001b[39m\"\u001b[39m \u001b[39mnot\u001b[39;00m \u001b[39min\u001b[39;00m mode:\n\u001b[0;32m   1660\u001b[0m         mode \u001b[39m+\u001b[39m\u001b[39m=\u001b[39m \u001b[39m\"\u001b[39m\u001b[39mb\u001b[39m\u001b[39m\"\u001b[39m\n\u001b[1;32m-> 1661\u001b[0m \u001b[39mself\u001b[39m\u001b[39m.\u001b[39mhandles \u001b[39m=\u001b[39m get_handle(\n\u001b[0;32m   1662\u001b[0m     f,\n\u001b[0;32m   1663\u001b[0m     mode,\n\u001b[0;32m   1664\u001b[0m     encoding\u001b[39m=\u001b[39;49m\u001b[39mself\u001b[39;49m\u001b[39m.\u001b[39;49moptions\u001b[39m.\u001b[39;49mget(\u001b[39m\"\u001b[39;49m\u001b[39mencoding\u001b[39;49m\u001b[39m\"\u001b[39;49m, \u001b[39mNone\u001b[39;49;00m),\n\u001b[0;32m   1665\u001b[0m     compression\u001b[39m=\u001b[39;49m\u001b[39mself\u001b[39;49m\u001b[39m.\u001b[39;49moptions\u001b[39m.\u001b[39;49mget(\u001b[39m\"\u001b[39;49m\u001b[39mcompression\u001b[39;49m\u001b[39m\"\u001b[39;49m, \u001b[39mNone\u001b[39;49;00m),\n\u001b[0;32m   1666\u001b[0m     memory_map\u001b[39m=\u001b[39;49m\u001b[39mself\u001b[39;49m\u001b[39m.\u001b[39;49moptions\u001b[39m.\u001b[39;49mget(\u001b[39m\"\u001b[39;49m\u001b[39mmemory_map\u001b[39;49m\u001b[39m\"\u001b[39;49m, \u001b[39mFalse\u001b[39;49;00m),\n\u001b[0;32m   1667\u001b[0m     is_text\u001b[39m=\u001b[39;49mis_text,\n\u001b[0;32m   1668\u001b[0m     errors\u001b[39m=\u001b[39;49m\u001b[39mself\u001b[39;49m\u001b[39m.\u001b[39;49moptions\u001b[39m.\u001b[39;49mget(\u001b[39m\"\u001b[39;49m\u001b[39mencoding_errors\u001b[39;49m\u001b[39m\"\u001b[39;49m, \u001b[39m\"\u001b[39;49m\u001b[39mstrict\u001b[39;49m\u001b[39m\"\u001b[39;49m),\n\u001b[0;32m   1669\u001b[0m     storage_options\u001b[39m=\u001b[39;49m\u001b[39mself\u001b[39;49m\u001b[39m.\u001b[39;49moptions\u001b[39m.\u001b[39;49mget(\u001b[39m\"\u001b[39;49m\u001b[39mstorage_options\u001b[39;49m\u001b[39m\"\u001b[39;49m, \u001b[39mNone\u001b[39;49;00m),\n\u001b[0;32m   1670\u001b[0m )\n\u001b[0;32m   1671\u001b[0m \u001b[39massert\u001b[39;00m \u001b[39mself\u001b[39m\u001b[39m.\u001b[39mhandles \u001b[39mis\u001b[39;00m \u001b[39mnot\u001b[39;00m \u001b[39mNone\u001b[39;00m\n\u001b[0;32m   1672\u001b[0m f \u001b[39m=\u001b[39m \u001b[39mself\u001b[39m\u001b[39m.\u001b[39mhandles\u001b[39m.\u001b[39mhandle\n",
      "File \u001b[1;32mc:\\Users\\mpvac\\AppData\\Local\\Programs\\Python\\Python311\\Lib\\site-packages\\pandas\\io\\common.py:859\u001b[0m, in \u001b[0;36mget_handle\u001b[1;34m(path_or_buf, mode, encoding, compression, memory_map, is_text, errors, storage_options)\u001b[0m\n\u001b[0;32m    854\u001b[0m \u001b[39melif\u001b[39;00m \u001b[39misinstance\u001b[39m(handle, \u001b[39mstr\u001b[39m):\n\u001b[0;32m    855\u001b[0m     \u001b[39m# Check whether the filename is to be opened in binary mode.\u001b[39;00m\n\u001b[0;32m    856\u001b[0m     \u001b[39m# Binary mode does not support 'encoding' and 'newline'.\u001b[39;00m\n\u001b[0;32m    857\u001b[0m     \u001b[39mif\u001b[39;00m ioargs\u001b[39m.\u001b[39mencoding \u001b[39mand\u001b[39;00m \u001b[39m\"\u001b[39m\u001b[39mb\u001b[39m\u001b[39m\"\u001b[39m \u001b[39mnot\u001b[39;00m \u001b[39min\u001b[39;00m ioargs\u001b[39m.\u001b[39mmode:\n\u001b[0;32m    858\u001b[0m         \u001b[39m# Encoding\u001b[39;00m\n\u001b[1;32m--> 859\u001b[0m         handle \u001b[39m=\u001b[39m \u001b[39mopen\u001b[39;49m(\n\u001b[0;32m    860\u001b[0m             handle,\n\u001b[0;32m    861\u001b[0m             ioargs\u001b[39m.\u001b[39;49mmode,\n\u001b[0;32m    862\u001b[0m             encoding\u001b[39m=\u001b[39;49mioargs\u001b[39m.\u001b[39;49mencoding,\n\u001b[0;32m    863\u001b[0m             errors\u001b[39m=\u001b[39;49merrors,\n\u001b[0;32m    864\u001b[0m             newline\u001b[39m=\u001b[39;49m\u001b[39m\"\u001b[39;49m\u001b[39m\"\u001b[39;49m,\n\u001b[0;32m    865\u001b[0m         )\n\u001b[0;32m    866\u001b[0m     \u001b[39melse\u001b[39;00m:\n\u001b[0;32m    867\u001b[0m         \u001b[39m# Binary mode\u001b[39;00m\n\u001b[0;32m    868\u001b[0m         handle \u001b[39m=\u001b[39m \u001b[39mopen\u001b[39m(handle, ioargs\u001b[39m.\u001b[39mmode)\n",
      "\u001b[1;31mFileNotFoundError\u001b[0m: [Errno 2] No such file or directory: 'datasets\\\\Marriott_Hotels.csv'"
     ]
    }
   ],
   "source": [
    "json_list = [json1, json2, json3, json4, json5, json6, json7, json8, json9, json10, json11]\n",
    "\n",
    "marriot_hotels = pd.read_csv(r\"datasets\\Marriott_Hotels.csv\", encoding='latin1', sep=\";\")\n",
    "\n",
    "id_category = categories_df = pd.read_csv(\"datasets\\dataw\\categorias.csv\", encoding='latin1', sep=\",\")"
   ]
  },
  {
   "cell_type": "code",
   "execution_count": 8,
   "metadata": {
    "is_executing": true,
    "tags": []
   },
   "outputs": [],
   "source": [
    "# Esta funcion convierte el archivo json de google metadata_sitios en un dataframe\n",
    "\n",
    "def json_to_df(json_file):\n",
    "    data = []\n",
    "    with open(json_file, 'r') as f:\n",
    "        for line in f:\n",
    "            record = json.loads(line)\n",
    "            data.append(record)\n",
    "    \n",
    "    df = pd.DataFrame(data)\n",
    "    return df"
   ]
  },
  {
   "cell_type": "code",
   "execution_count": 9,
   "metadata": {
    "tags": []
   },
   "outputs": [],
   "source": [
    "# esta funcion separa address en direccion, estado, ciudad y CP. Tambien elimina columnas innecesarias\n",
    "\n",
    "def split_address_column(df):\n",
    "\n",
    "    address_split = df['address'].str.split(', ', expand=True)\n",
    "    df['nombre'] = address_split[0]\n",
    "    df['direccion'] = address_split[1]\n",
    "    df['ciudad'] = address_split[2]\n",
    "    df['estado'] = address_split[3]\n",
    "    estado_codigo_postal = address_split[3].str.split(' ', expand=True)\n",
    "    df['estado'] = estado_codigo_postal[0]\n",
    "    df['codigo_postal'] = estado_codigo_postal[1]\n",
    "    df.drop(columns=['address'], inplace=True)\n",
    "    df.drop(columns=['name'], inplace=True)\n",
    "    df.drop(columns=['description'], inplace=True)\n",
    "    df.drop(columns=['price'], inplace=True)\n",
    "    df.drop(columns=['relative_results'], inplace=True)\n",
    "    df.drop(columns=['url'], inplace=True)\n",
    "    df.drop(columns=['MISC'], inplace=True)\n",
    "        \n",
    "    return df"
   ]
  },
  {
   "cell_type": "code",
   "execution_count": 10,
   "metadata": {
    "tags": []
   },
   "outputs": [],
   "source": [
    "# esta funcion filtra los dataframe y obtiene solamente los estados de Florida, Nevada y California\n",
    "\n",
    "def filter_states(df):\n",
    "    \n",
    "    df['estado'] = df['estado'].str.strip()\n",
    "    df['estado'] = df['estado'].str.upper()\n",
    "    df['estado'] = df['estado'].str.replace('FLORIDA', 'FL')\n",
    "    df['estado'] = df['estado'].str.replace('CALIFORNIA', 'CA')\n",
    "    df['estado'] = df['estado'].str.replace('NEVADA', 'NV')\n",
    "    df = df[df['estado'].isin(['FL', 'NV', 'CA'])]\n",
    "    df.reset_index(drop=True, inplace=True)\n",
    "\n",
    "    return df"
   ]
  },
  {
   "cell_type": "code",
   "execution_count": 11,
   "metadata": {
    "tags": []
   },
   "outputs": [],
   "source": [
    "# Esta funcion obtiene los locales de las ciudades de Miami Los Angeles Las Vegas Paradise Winchester\n",
    "\n",
    "def filter_cities(df):\n",
    "\n",
    "    target_cities = [\"Miami\", \"Los Angeles\", \"Las Vegas\", \"Paradise\", \"Winchester\"]\n",
    "    df = df[df[\"ciudad\"].isin(target_cities)]\n",
    "    \n",
    "    return df"
   ]
  },
  {
   "cell_type": "code",
   "execution_count": 12,
   "metadata": {
    "tags": []
   },
   "outputs": [],
   "source": [
    "# Esta funcion elimina los comercios que esten cerrados permanentemente o temporalmente\n",
    "\n",
    "def remove_closed_shops(df):\n",
    "\n",
    "    df = df[(df[\"state\"] != \"Permanently closed\") & (df[\"state\"] != \"Temporarily closed\")]\n",
    "    \n",
    "    return df"
   ]
  },
  {
   "cell_type": "code",
   "execution_count": 13,
   "metadata": {},
   "outputs": [],
   "source": [
    "# Esta funcion quita los valores donde en la colulmna categoria sean nulos\n",
    "\n",
    "def remove_null_category(df):\n",
    "\n",
    "    df = df[df['category'].notnull()]\n",
    "    \n",
    "    return df"
   ]
  },
  {
   "cell_type": "code",
   "execution_count": 14,
   "metadata": {},
   "outputs": [],
   "source": [
    "# Esta funcion filtra los shops de google por los locales gastronomicos\n",
    "\n",
    "def filter_by_keywords(data, keywords):\n",
    "    \n",
    "    patron = '|'.join(keywords)\n",
    "    filtro = data['category'].str.contains(patron, case=False)\n",
    "    filas_filtradas = data[filtro]\n",
    "    return filas_filtradas\n",
    "\n",
    "filter_gastronomic = ['Grill', 'Pub', 'Deli', 'Mexican', 'Ice Cream', 'Brewery', 'Sushi', 'Restaurants', 'Restaurant', 'Hoteles', 'Hotel', 'Restaurante', 'Bar', 'Cafe', 'Coffe', 'Pizza', 'Bakery', 'Food', 'Diner', 'Bistro', 'Bakeries']"
   ]
  },
  {
   "cell_type": "code",
   "execution_count": 15,
   "metadata": {
    "tags": []
   },
   "outputs": [],
   "source": [
    "# Esta funcion elimina los duplicados en el dataframe\n",
    "\n",
    "def remove_duplicates(df):\n",
    "\n",
    "    df = df.drop_duplicates(subset=['gmap_id'])\n",
    "    return df"
   ]
  },
  {
   "cell_type": "code",
   "execution_count": 16,
   "metadata": {},
   "outputs": [],
   "source": [
    "# Esta funcion genera un ID hash con la suma de la latitud y la longitud, luego chequea que no haya duplicados.\n",
    "# En caso de haber duplicados, elimina el duplicado de menor valor en la columna 'avg_rating'\n",
    "\n",
    "def generate_hash(latitude, longitude):\n",
    "    hash_input = str(float(latitude) + float(longitude))\n",
    "    hash_object = hashlib.md5(hash_input.encode())\n",
    "    return hash_object.hexdigest()\n",
    "\n",
    "def check_duplicates_hash(df, id_column, avg_rating_column):\n",
    "    \n",
    "    df_ordenado = df.sort_values(by=avg_rating_column)\n",
    "    df_sin_duplicados = df_ordenado.drop_duplicates(subset=id_column, keep='first')\n",
    "    \n",
    "    return df_sin_duplicados\n"
   ]
  },
  {
   "cell_type": "code",
   "execution_count": 17,
   "metadata": {},
   "outputs": [],
   "source": [
    "# Esta funcion genera la tabla de horarios en un nuevo dataframe\n",
    "\n",
    "def generate_new_dataframe_with_hours(df):\n",
    "    \n",
    "    new_rows = []\n",
    "    for index, row in df.iterrows():\n",
    "        id_hash = row['id_hash']\n",
    "        hours = row['hours']\n",
    "        if hours:\n",
    "            for day_info in hours:\n",
    "                day_name = day_info[0]\n",
    "                times = day_info[1].split('–')\n",
    "                open_time = times[0]\n",
    "                close_time = times[1] if len(times) > 1 else None\n",
    "                new_rows.append({\n",
    "                    'id_hash': id_hash,\n",
    "                    'day_name': day_name,\n",
    "                    'open_time': open_time,\n",
    "                    'close_time': close_time\n",
    "                })\n",
    "    new_df = pd.DataFrame(new_rows)\n",
    "    df.drop('hours', axis=1, inplace=True)\n",
    "    new_df = new_df.rename(columns={'id_hash': 'shop_id'})\n",
    "    column_order = ['day_name', 'open_time', 'close_time', 'shop_id']\n",
    "    new_df = new_df.reindex(columns=column_order)\n",
    "\n",
    "    return new_df"
   ]
  },
  {
   "cell_type": "code",
   "execution_count": 18,
   "metadata": {},
   "outputs": [],
   "source": [
    "# Esta funcion convierte las columnas de horarios en formato 24hs\n",
    "\n",
    "def convert_to_24hr(time_str):\n",
    "\n",
    "    if pd.isnull(time_str):\n",
    "        return np.nan\n",
    "    time_str = time_str.replace('AM', '').replace('PM', '')\n",
    "    if ':' in time_str:\n",
    "        hours, minutes = map(int, time_str.split(':'))\n",
    "        if 'PM' in time_str and hours != 12:\n",
    "            hours += 12\n",
    "    elif time_str.strip().lower() == 'closed':\n",
    "        return np.nan\n",
    "    else:\n",
    "        try:\n",
    "            hours = int(time_str)\n",
    "            minutes = 0\n",
    "        except ValueError:\n",
    "            return np.nan\n",
    "            \n",
    "    return f\"{hours:02d}:{minutes:02d}\""
   ]
  },
  {
   "cell_type": "code",
   "execution_count": 2,
   "metadata": {},
   "outputs": [],
   "source": [
    "# Esta funcion genera la dimension location para el Dw y corrije nombres y posiciones de columna \n",
    "\n",
    "def generate_location_dataframe(df):\n",
    "    \n",
    "    location_df = df[['id_hash', 'estado', 'latitude', 'longitude', 'codigo_postal', 'ciudad', 'direccion']].copy()\n",
    "    location_df.columns = ['id_shop', 'state', 'latitude', 'longitude', 'postal_code', 'city', 'address']\n",
    "    df.drop(['latitude', 'longitude', 'estado', 'codigo_postal', 'ciudad', 'direccion'], axis=1, inplace=True)\n",
    "    location_df['postal_code'] = location_df['postal_code'].str.replace(r'\\D', '', regex=True)\n",
    "    location_df['postal_code'] = np.where(location_df['postal_code'] != '', location_df['postal_code'], None)\n",
    "    location_df['postal_code'] = location_df['postal_code'].astype('Int64')\n",
    "    location_df['id_shop'] = location_df['id_shop'].astype(str)\n",
    "    \n",
    "    return location_df"
   ]
  },
  {
   "cell_type": "code",
   "execution_count": 20,
   "metadata": {},
   "outputs": [],
   "source": [
    "# Esta funcion genera una nueva dimension de categorias para el dw\n",
    "\n",
    "def extract_categories(df):\n",
    "    \n",
    "    new_df = df[['category', 'id_hash']].copy()\n",
    "    new_df['category'] = new_df['category'].apply(lambda x: x.replace(',', '').split())\n",
    "    new_df = new_df.explode('category')\n",
    "    new_df.reset_index(drop=True, inplace=True)\n",
    "\n",
    "    return new_df"
   ]
  },
  {
   "cell_type": "code",
   "execution_count": 21,
   "metadata": {},
   "outputs": [],
   "source": [
    "# Esta funcion normaliza la dimension category_shop, cambiando la categoria por el id de la categoria.\n",
    "# luego se queda solo con las categorias con ID\n",
    "\n",
    "def process_category_shop(df, id_category):\n",
    "\n",
    "    df = df.sort_values(by='id_hash')\n",
    "    df['category'] = df['category'].str.title()\n",
    "    id_category['category'] = id_category['category'].str.title()\n",
    "    df = df.merge(id_category, on='category', how='left')\n",
    "    df = df.dropna(subset=['id_category'])\n",
    "    df['id_category'] = df['id_category'].astype('int64')\n",
    "    df = df.drop(columns=['category']).rename(columns={'id_hash': 'id_shop'})\n",
    "    df = df.reset_index(drop=True)\n",
    "    \n",
    "    return df"
   ]
  },
  {
   "cell_type": "code",
   "execution_count": 22,
   "metadata": {},
   "outputs": [],
   "source": [
    "# Esta funcion prepara el dataframe shops para el DW\n",
    "\n",
    "def transform_shops(df):\n",
    "\n",
    "    df['source'] = 2\n",
    "    df = df.rename(columns={\n",
    "        'id_hash': 'id_shop',\n",
    "        'nombre': 'name',\n",
    "        'avg_rating': 'stars',\n",
    "        'gmap_id': 'id_source'\n",
    "    })\n",
    "    column_order = ['id_shop', 'name', 'stars', 'source', 'id_source']\n",
    "    df = df[column_order]\n",
    "    \n",
    "    return df\n"
   ]
  },
  {
   "cell_type": "code",
   "execution_count": 23,
   "metadata": {
    "tags": []
   },
   "outputs": [],
   "source": [
    "# esta funcion ejecula las func para que desde los archivos json podamos obtener un dataframe\n",
    "# con la columna adress, discriminada en varias columnas\n",
    "# y filtrada por las ciudades que nos interesan\n",
    "\n",
    "def process_and_concat(json_list):\n",
    "    \n",
    "    dfs = []\n",
    "    for json_file in json_list:\n",
    "        df = json_to_df(json_file)\n",
    "        df = split_address_column(df)\n",
    "        df = filter_cities(df)\n",
    "        dfs.append(df)\n",
    "    concatenated_df = pd.concat(dfs, ignore_index=True)\n",
    "\n",
    "    return concatenated_df"
   ]
  },
  {
   "cell_type": "code",
   "execution_count": 24,
   "metadata": {
    "tags": []
   },
   "outputs": [],
   "source": [
    "# Esta funcion procesa las funciones de normalizacion\n",
    "\n",
    "def normalization_functions(df):\n",
    "    \n",
    "    df = remove_duplicates(df)\n",
    "    df = remove_null_category(df)\n",
    "    df = remove_closed_shops(df)\n",
    "    df['category'] = df['category'].apply(lambda x: ', '.join(x) if isinstance(x, list) else x)\n",
    "    df = filter_by_keywords(df, filter_gastronomic)\n",
    "    df['id_hash'] = df.apply(lambda row: generate_hash(row['latitude'], row['longitude']), axis=1)\n",
    "    df = check_duplicates_hash(df, id_column='id_hash', avg_rating_column='avg_rating')\n",
    "    df = df.reset_index(drop=True)\n",
    "\n",
    "    return df"
   ]
  },
  {
   "cell_type": "code",
   "execution_count": 25,
   "metadata": {
    "tags": []
   },
   "outputs": [],
   "source": [
    "# Genero el dataframe inicial\n",
    "\n",
    "google_shops = process_and_concat(json_list) "
   ]
  },
  {
   "cell_type": "code",
   "execution_count": 65,
   "metadata": {},
   "outputs": [],
   "source": [
    "# genero df solo con los locales gastronomicos y hoteleros\n",
    "\n",
    "google_shops_gastronomy = normalization_functions(google_shops)"
   ]
  },
  {
   "cell_type": "code",
   "execution_count": 66,
   "metadata": {},
   "outputs": [
    {
     "name": "stdout",
     "output_type": "stream",
     "text": [
      "<class 'pandas.core.frame.DataFrame'>\n",
      "RangeIndex: 34244 entries, 0 to 34243\n",
      "Data columns (total 4 columns):\n",
      " #   Column      Non-Null Count  Dtype \n",
      "---  ------      --------------  ----- \n",
      " 0   day_name    34244 non-null  object\n",
      " 1   open_time   29269 non-null  object\n",
      " 2   close_time  29269 non-null  object\n",
      " 3   shop_id     34244 non-null  object\n",
      "dtypes: object(4)\n",
      "memory usage: 1.0+ MB\n"
     ]
    }
   ],
   "source": [
    "# Genero la nueva dimension del DW day_time\n",
    "\n",
    "day_time_g = generate_new_dataframe_with_hours(google_shops_gastronomy)\n",
    "day_time_g['open_time'] = day_time_g['open_time'].apply(convert_to_24hr)\n",
    "day_time_g['close_time'] = day_time_g['close_time'].apply(convert_to_24hr)\n",
    "\n",
    "day_time_g.to_csv(r\"datasets\\dataw\\day_time_g.csv\", sep=';', index=False)\n",
    "day_time_g.info()"
   ]
  },
  {
   "cell_type": "code",
   "execution_count": 67,
   "metadata": {},
   "outputs": [
    {
     "data": {
      "text/html": [
       "<div>\n",
       "<style scoped>\n",
       "    .dataframe tbody tr th:only-of-type {\n",
       "        vertical-align: middle;\n",
       "    }\n",
       "\n",
       "    .dataframe tbody tr th {\n",
       "        vertical-align: top;\n",
       "    }\n",
       "\n",
       "    .dataframe thead th {\n",
       "        text-align: right;\n",
       "    }\n",
       "</style>\n",
       "<table border=\"1\" class=\"dataframe\">\n",
       "  <thead>\n",
       "    <tr style=\"text-align: right;\">\n",
       "      <th></th>\n",
       "      <th>day_name</th>\n",
       "      <th>open_time</th>\n",
       "      <th>close_time</th>\n",
       "      <th>shop_id</th>\n",
       "    </tr>\n",
       "  </thead>\n",
       "  <tbody>\n",
       "    <tr>\n",
       "      <th>0</th>\n",
       "      <td>Friday</td>\n",
       "      <td>09:00</td>\n",
       "      <td>05:00</td>\n",
       "      <td>d4cbb312e58f20251b83cf3157d37b83</td>\n",
       "    </tr>\n",
       "    <tr>\n",
       "      <th>1</th>\n",
       "      <td>Saturday</td>\n",
       "      <td>09:00</td>\n",
       "      <td>05:00</td>\n",
       "      <td>d4cbb312e58f20251b83cf3157d37b83</td>\n",
       "    </tr>\n",
       "    <tr>\n",
       "      <th>2</th>\n",
       "      <td>Sunday</td>\n",
       "      <td>09:00</td>\n",
       "      <td>05:00</td>\n",
       "      <td>d4cbb312e58f20251b83cf3157d37b83</td>\n",
       "    </tr>\n",
       "    <tr>\n",
       "      <th>3</th>\n",
       "      <td>Monday</td>\n",
       "      <td>09:00</td>\n",
       "      <td>05:00</td>\n",
       "      <td>d4cbb312e58f20251b83cf3157d37b83</td>\n",
       "    </tr>\n",
       "    <tr>\n",
       "      <th>4</th>\n",
       "      <td>Tuesday</td>\n",
       "      <td>09:00</td>\n",
       "      <td>05:00</td>\n",
       "      <td>d4cbb312e58f20251b83cf3157d37b83</td>\n",
       "    </tr>\n",
       "  </tbody>\n",
       "</table>\n",
       "</div>"
      ],
      "text/plain": [
       "   day_name open_time close_time                           shop_id\n",
       "0    Friday     09:00      05:00  d4cbb312e58f20251b83cf3157d37b83\n",
       "1  Saturday     09:00      05:00  d4cbb312e58f20251b83cf3157d37b83\n",
       "2    Sunday     09:00      05:00  d4cbb312e58f20251b83cf3157d37b83\n",
       "3    Monday     09:00      05:00  d4cbb312e58f20251b83cf3157d37b83\n",
       "4   Tuesday     09:00      05:00  d4cbb312e58f20251b83cf3157d37b83"
      ]
     },
     "execution_count": 67,
     "metadata": {},
     "output_type": "execute_result"
    }
   ],
   "source": [
    "day_time_g.head()"
   ]
  },
  {
   "cell_type": "code",
   "execution_count": 68,
   "metadata": {},
   "outputs": [
    {
     "name": "stdout",
     "output_type": "stream",
     "text": [
      "<class 'pandas.core.frame.DataFrame'>\n",
      "RangeIndex: 5803 entries, 0 to 5802\n",
      "Data columns (total 7 columns):\n",
      " #   Column       Non-Null Count  Dtype  \n",
      "---  ------       --------------  -----  \n",
      " 0   id_shop      5803 non-null   object \n",
      " 1   state        5803 non-null   object \n",
      " 2   latitude     5803 non-null   float64\n",
      " 3   longitude    5803 non-null   float64\n",
      " 4   postal_code  5800 non-null   Int64  \n",
      " 5   city         5803 non-null   object \n",
      " 6   adress       5803 non-null   object \n",
      "dtypes: Int64(1), float64(2), object(4)\n",
      "memory usage: 323.1+ KB\n"
     ]
    }
   ],
   "source": [
    "# Genero la nueva dimension de DW location\n",
    "\n",
    "location_g = generate_location_dataframe(google_shops_gastronomy)\n",
    "location_g.to_csv(r\"datasets\\dataw\\location_g.csv\", sep=';', index=False)\n",
    "location_g.info()"
   ]
  },
  {
   "cell_type": "code",
   "execution_count": 69,
   "metadata": {},
   "outputs": [
    {
     "data": {
      "text/html": [
       "<div>\n",
       "<style scoped>\n",
       "    .dataframe tbody tr th:only-of-type {\n",
       "        vertical-align: middle;\n",
       "    }\n",
       "\n",
       "    .dataframe tbody tr th {\n",
       "        vertical-align: top;\n",
       "    }\n",
       "\n",
       "    .dataframe thead th {\n",
       "        text-align: right;\n",
       "    }\n",
       "</style>\n",
       "<table border=\"1\" class=\"dataframe\">\n",
       "  <thead>\n",
       "    <tr style=\"text-align: right;\">\n",
       "      <th></th>\n",
       "      <th>id_shop</th>\n",
       "      <th>state</th>\n",
       "      <th>latitude</th>\n",
       "      <th>longitude</th>\n",
       "      <th>postal_code</th>\n",
       "      <th>city</th>\n",
       "      <th>adress</th>\n",
       "    </tr>\n",
       "  </thead>\n",
       "  <tbody>\n",
       "    <tr>\n",
       "      <th>0</th>\n",
       "      <td>d86aef7d13e277917b5323e437352cd3</td>\n",
       "      <td>FL</td>\n",
       "      <td>25.777883</td>\n",
       "      <td>-80.406450</td>\n",
       "      <td>33182</td>\n",
       "      <td>Miami</td>\n",
       "      <td>12976 NW 9th St</td>\n",
       "    </tr>\n",
       "    <tr>\n",
       "      <th>1</th>\n",
       "      <td>769f91eacf53036927de048fb4874d25</td>\n",
       "      <td>FL</td>\n",
       "      <td>25.775277</td>\n",
       "      <td>-80.188582</td>\n",
       "      <td>33132</td>\n",
       "      <td>Miami</td>\n",
       "      <td>19100 NE 3rd Ave</td>\n",
       "    </tr>\n",
       "    <tr>\n",
       "      <th>2</th>\n",
       "      <td>90f3c5b2f79b3eba1be81e46518dd5fe</td>\n",
       "      <td>NV</td>\n",
       "      <td>36.147183</td>\n",
       "      <td>-115.187865</td>\n",
       "      <td>89102</td>\n",
       "      <td>Las Vegas</td>\n",
       "      <td>2216 Plaza Del Prado</td>\n",
       "    </tr>\n",
       "    <tr>\n",
       "      <th>3</th>\n",
       "      <td>f1b3b66602977f1c653f7cb0c5d6b6cf</td>\n",
       "      <td>NV</td>\n",
       "      <td>36.165312</td>\n",
       "      <td>-115.153391</td>\n",
       "      <td>89155</td>\n",
       "      <td>Las Vegas</td>\n",
       "      <td>500 S Grand Central Pkwy</td>\n",
       "    </tr>\n",
       "    <tr>\n",
       "      <th>4</th>\n",
       "      <td>d4cbb312e58f20251b83cf3157d37b83</td>\n",
       "      <td>NV</td>\n",
       "      <td>36.195477</td>\n",
       "      <td>-115.248844</td>\n",
       "      <td>89128</td>\n",
       "      <td>Las Vegas</td>\n",
       "      <td>7175 W Lake Mead Blvd</td>\n",
       "    </tr>\n",
       "  </tbody>\n",
       "</table>\n",
       "</div>"
      ],
      "text/plain": [
       "                            id_shop state   latitude   longitude  postal_code       city                    adress\n",
       "0  d86aef7d13e277917b5323e437352cd3    FL  25.777883  -80.406450        33182      Miami           12976 NW 9th St\n",
       "1  769f91eacf53036927de048fb4874d25    FL  25.775277  -80.188582        33132      Miami          19100 NE 3rd Ave\n",
       "2  90f3c5b2f79b3eba1be81e46518dd5fe    NV  36.147183 -115.187865        89102  Las Vegas      2216 Plaza Del Prado\n",
       "3  f1b3b66602977f1c653f7cb0c5d6b6cf    NV  36.165312 -115.153391        89155  Las Vegas  500 S Grand Central Pkwy\n",
       "4  d4cbb312e58f20251b83cf3157d37b83    NV  36.195477 -115.248844        89128  Las Vegas     7175 W Lake Mead Blvd"
      ]
     },
     "execution_count": 69,
     "metadata": {},
     "output_type": "execute_result"
    }
   ],
   "source": [
    "location_g.head()"
   ]
  },
  {
   "cell_type": "code",
   "execution_count": 70,
   "metadata": {},
   "outputs": [
    {
     "name": "stdout",
     "output_type": "stream",
     "text": [
      "<class 'pandas.core.frame.DataFrame'>\n",
      "RangeIndex: 9485 entries, 0 to 9484\n",
      "Data columns (total 2 columns):\n",
      " #   Column       Non-Null Count  Dtype \n",
      "---  ------       --------------  ----- \n",
      " 0   id_shop      9485 non-null   object\n",
      " 1   id_category  9485 non-null   int64 \n",
      "dtypes: int64(1), object(1)\n",
      "memory usage: 148.3+ KB\n"
     ]
    }
   ],
   "source": [
    "# Genero la nueva dimension de DW category_shop\n",
    "\n",
    "category_shop_g = extract_categories(google_shops_gastronomy)\n",
    "category_shop_g = process_category_shop(category_shop_g, id_category)\n",
    "category_shop_g.to_csv(r\"datasets\\dataw\\category_shop_g.csv\", sep=';', index=False)\n",
    "category_shop_g.info()"
   ]
  },
  {
   "cell_type": "code",
   "execution_count": 71,
   "metadata": {},
   "outputs": [
    {
     "data": {
      "text/html": [
       "<div>\n",
       "<style scoped>\n",
       "    .dataframe tbody tr th:only-of-type {\n",
       "        vertical-align: middle;\n",
       "    }\n",
       "\n",
       "    .dataframe tbody tr th {\n",
       "        vertical-align: top;\n",
       "    }\n",
       "\n",
       "    .dataframe thead th {\n",
       "        text-align: right;\n",
       "    }\n",
       "</style>\n",
       "<table border=\"1\" class=\"dataframe\">\n",
       "  <thead>\n",
       "    <tr style=\"text-align: right;\">\n",
       "      <th></th>\n",
       "      <th>id_shop</th>\n",
       "      <th>id_category</th>\n",
       "    </tr>\n",
       "  </thead>\n",
       "  <tbody>\n",
       "    <tr>\n",
       "      <th>0</th>\n",
       "      <td>001d1c3dc79b1ea635c4bacbd9f75c96</td>\n",
       "      <td>23</td>\n",
       "    </tr>\n",
       "    <tr>\n",
       "      <th>1</th>\n",
       "      <td>001d1c3dc79b1ea635c4bacbd9f75c96</td>\n",
       "      <td>20</td>\n",
       "    </tr>\n",
       "    <tr>\n",
       "      <th>2</th>\n",
       "      <td>001d1c3dc79b1ea635c4bacbd9f75c96</td>\n",
       "      <td>20</td>\n",
       "    </tr>\n",
       "    <tr>\n",
       "      <th>3</th>\n",
       "      <td>001d1c3dc79b1ea635c4bacbd9f75c96</td>\n",
       "      <td>20</td>\n",
       "    </tr>\n",
       "    <tr>\n",
       "      <th>4</th>\n",
       "      <td>001d1c3dc79b1ea635c4bacbd9f75c96</td>\n",
       "      <td>23</td>\n",
       "    </tr>\n",
       "  </tbody>\n",
       "</table>\n",
       "</div>"
      ],
      "text/plain": [
       "                            id_shop  id_category\n",
       "0  001d1c3dc79b1ea635c4bacbd9f75c96           23\n",
       "1  001d1c3dc79b1ea635c4bacbd9f75c96           20\n",
       "2  001d1c3dc79b1ea635c4bacbd9f75c96           20\n",
       "3  001d1c3dc79b1ea635c4bacbd9f75c96           20\n",
       "4  001d1c3dc79b1ea635c4bacbd9f75c96           23"
      ]
     },
     "execution_count": 71,
     "metadata": {},
     "output_type": "execute_result"
    }
   ],
   "source": [
    "category_shop_g.head()"
   ]
  },
  {
   "cell_type": "code",
   "execution_count": 72,
   "metadata": {},
   "outputs": [
    {
     "name": "stdout",
     "output_type": "stream",
     "text": [
      "<class 'pandas.core.frame.DataFrame'>\n",
      "RangeIndex: 5803 entries, 0 to 5802\n",
      "Data columns (total 5 columns):\n",
      " #   Column     Non-Null Count  Dtype  \n",
      "---  ------     --------------  -----  \n",
      " 0   id_shop    5803 non-null   object \n",
      " 1   name       5803 non-null   object \n",
      " 2   stars      5803 non-null   float64\n",
      " 3   source     5803 non-null   int64  \n",
      " 4   id_source  5803 non-null   object \n",
      "dtypes: float64(1), int64(1), object(3)\n",
      "memory usage: 226.8+ KB\n"
     ]
    }
   ],
   "source": [
    "# Genero la nueva dimension de DW shops\n",
    "\n",
    "shops_g = transform_shops(google_shops_gastronomy)\n",
    "shops_g.to_csv(r\"datasets\\dataw\\shops_g.csv\", sep=';', index=False)\n",
    "shops_g.info()"
   ]
  },
  {
   "cell_type": "code",
   "execution_count": 73,
   "metadata": {},
   "outputs": [
    {
     "name": "stdout",
     "output_type": "stream",
     "text": [
      "<class 'pandas.core.frame.DataFrame'>\n",
      "RangeIndex: 5803 entries, 0 to 5802\n",
      "Data columns (total 5 columns):\n",
      " #   Column     Non-Null Count  Dtype  \n",
      "---  ------     --------------  -----  \n",
      " 0   id_shop    5803 non-null   object \n",
      " 1   name       5803 non-null   object \n",
      " 2   stars      5803 non-null   float64\n",
      " 3   source     5803 non-null   int64  \n",
      " 4   id_source  5803 non-null   object \n",
      "dtypes: float64(1), int64(1), object(3)\n",
      "memory usage: 226.8+ KB\n"
     ]
    }
   ],
   "source": [
    "shops_g.info()"
   ]
  }
 ],
 "metadata": {
  "kernelspec": {
   "display_name": "Python 3 (ipykernel)",
   "language": "python",
   "name": "python3"
  },
  "language_info": {
   "codemirror_mode": {
    "name": "ipython",
    "version": 3
   },
   "file_extension": ".py",
   "mimetype": "text/x-python",
   "name": "python",
   "nbconvert_exporter": "python",
   "pygments_lexer": "ipython3",
   "version": "3.11.4"
  }
 },
 "nbformat": 4,
 "nbformat_minor": 4
}
