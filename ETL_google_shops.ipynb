{
 "cells": [
  {
   "cell_type": "code",
   "execution_count": 6,
   "metadata": {
    "is_executing": true,
    "tags": []
   },
   "outputs": [],
   "source": [
    "import pandas as pd\n",
    "import json\n",
    "import hashlib\n",
    "import numpy as np\n",
    "\n",
    "pd.set_option('display.max_columns', None)\n",
    "pd.set_option('display.expand_frame_repr', False)\n",
    "\n",
    "\n",
    "# Genero variables con las rutas de los archivos y los coloco en una lista\n",
    "\n",
    "json1 = r\"datasets\\originals\\google_places\\1.json\"\n",
    "json2 = r\"datasets\\originals\\google_places\\2.json\"\n",
    "json3 = r\"datasets\\originals\\google_places\\3.json\"\n",
    "json4 = r\"datasets\\originals\\google_places\\4.json\"\n",
    "json5 = r\"datasets\\originals\\google_places\\5.json\"\n",
    "json6 = r\"datasets\\originals\\google_places\\6.json\"\n",
    "json7 = r\"datasets\\originals\\google_places\\7.json\"\n",
    "json8 = r\"datasets\\originals\\google_places\\8.json\"\n",
    "json9 = r\"datasets\\originals\\google_places\\9.json\"\n",
    "json10 = r\"datasets\\originals\\google_places\\10.json\"\n",
    "json11 = r\"datasets\\originals\\google_places\\11.json\""
   ]
  },
  {
   "cell_type": "code",
   "execution_count": 7,
   "metadata": {},
   "outputs": [],
   "source": [
    "json_list = [json1, json2, json3, json4, json5, json6, json7, json8, json9, json10, json11]\n",
    "\n",
    "marriot_hotels = pd.read_csv(r\"datasets\\Marriott_Hotels.csv\", encoding='latin1', sep=\";\")\n",
    "\n",
    "id_category = categories_df = pd.read_csv(\"datasets\\dataw\\categorias.csv\", encoding='latin1', sep=\",\")"
   ]
  },
  {
   "cell_type": "code",
   "execution_count": 8,
   "metadata": {
    "is_executing": true,
    "tags": []
   },
   "outputs": [],
   "source": [
    "# Esta funcion convierte el archivo json de google metadata_sitios en un dataframe\n",
    "\n",
    "def json_to_df(json_file):\n",
    "    data = []\n",
    "    with open(json_file, 'r') as f:\n",
    "        for line in f:\n",
    "            record = json.loads(line)\n",
    "            data.append(record)\n",
    "    \n",
    "    df = pd.DataFrame(data)\n",
    "    return df"
   ]
  },
  {
   "cell_type": "code",
   "execution_count": 9,
   "metadata": {
    "tags": []
   },
   "outputs": [],
   "source": [
    "# esta funcion separa address en direccion, estado, ciudad y CP. Tambien elimina columnas innecesarias\n",
    "\n",
    "def split_address_column(df):\n",
    "\n",
    "    address_split = df['address'].str.split(', ', expand=True)\n",
    "    df['nombre'] = address_split[0]\n",
    "    df['direccion'] = address_split[1]\n",
    "    df['ciudad'] = address_split[2]\n",
    "    df['estado'] = address_split[3]\n",
    "    estado_codigo_postal = address_split[3].str.split(' ', expand=True)\n",
    "    df['estado'] = estado_codigo_postal[0]\n",
    "    df['codigo_postal'] = estado_codigo_postal[1]\n",
    "    df.drop(columns=['address'], inplace=True)\n",
    "    df.drop(columns=['name'], inplace=True)\n",
    "    df.drop(columns=['description'], inplace=True)\n",
    "    df.drop(columns=['price'], inplace=True)\n",
    "    df.drop(columns=['relative_results'], inplace=True)\n",
    "    df.drop(columns=['url'], inplace=True)\n",
    "    df.drop(columns=['MISC'], inplace=True)\n",
    "        \n",
    "    return df"
   ]
  },
  {
   "cell_type": "code",
   "execution_count": 10,
   "metadata": {
    "tags": []
   },
   "outputs": [],
   "source": [
    "# esta funcion filtra los dataframe y obtiene solamente los estados de Florida, Nevada y California\n",
    "\n",
    "def filter_states(df):\n",
    "    \n",
    "    df['estado'] = df['estado'].str.strip()\n",
    "    df['estado'] = df['estado'].str.upper()\n",
    "    df['estado'] = df['estado'].str.replace('FLORIDA', 'FL')\n",
    "    df['estado'] = df['estado'].str.replace('CALIFORNIA', 'CA')\n",
    "    df['estado'] = df['estado'].str.replace('NEVADA', 'NV')\n",
    "    df = df[df['estado'].isin(['FL', 'NV', 'CA'])]\n",
    "    df.reset_index(drop=True, inplace=True)\n",
    "\n",
    "    return df"
   ]
  },
  {
   "cell_type": "code",
   "execution_count": 11,
   "metadata": {
    "tags": []
   },
   "outputs": [],
   "source": [
    "# Esta funcion obtiene los locales de las ciudades de Miami Los Angeles Las Vegas Paradise Winchester\n",
    "\n",
    "def filter_cities(df):\n",
    "\n",
    "    target_cities = [\"Miami\", \"Los Angeles\", \"Las Vegas\", \"Paradise\", \"Winchester\"]\n",
    "    df = df[df[\"ciudad\"].isin(target_cities)]\n",
    "    \n",
    "    return df"
   ]
  },
  {
   "cell_type": "code",
   "execution_count": 12,
   "metadata": {
    "tags": []
   },
   "outputs": [],
   "source": [
    "# Esta funcion elimina los comercios que esten cerrados permanentemente o temporalmente\n",
    "\n",
    "def remove_closed_shops(df):\n",
    "\n",
    "    df = df[(df[\"state\"] != \"Permanently closed\") & (df[\"state\"] != \"Temporarily closed\")]\n",
    "    \n",
    "    return df"
   ]
  },
  {
   "cell_type": "code",
   "execution_count": 13,
   "metadata": {},
   "outputs": [],
   "source": [
    "# Esta funcion quita los valores donde en la colulmna categoria sean nulos\n",
    "\n",
    "def remove_null_category(df):\n",
    "\n",
    "    df = df[df['category'].notnull()]\n",
    "    \n",
    "    return df"
   ]
  },
  {
   "cell_type": "code",
   "execution_count": 14,
   "metadata": {},
   "outputs": [],
   "source": [
    "# Esta funcion filtra los shops de google por los locales gastronomicos\n",
    "\n",
    "def filter_by_keywords(data, keywords):\n",
    "    \n",
    "    patron = '|'.join(keywords)\n",
    "    filtro = data['category'].str.contains(patron, case=False)\n",
    "    filas_filtradas = data[filtro]\n",
    "    return filas_filtradas\n",
    "\n",
    "filter_gastronomic = ['Grill', 'Pub', 'Deli', 'Mexican', 'Ice Cream', 'Brewery', 'Sushi', 'Restaurants', 'Restaurant', 'Hoteles', 'Hotel', 'Restaurante', 'Bar', 'Cafe', 'Coffe', 'Pizza', 'Bakery', 'Food', 'Diner', 'Bistro', 'Bakeries']"
   ]
  },
  {
   "cell_type": "code",
   "execution_count": 15,
   "metadata": {
    "tags": []
   },
   "outputs": [],
   "source": [
    "# Esta funcion elimina los duplicados en el dataframe\n",
    "\n",
    "def remove_duplicates(df):\n",
    "\n",
    "    df = df.drop_duplicates(subset=['gmap_id'])\n",
    "    return df"
   ]
  },
  {
   "cell_type": "code",
   "execution_count": 16,
   "metadata": {},
   "outputs": [],
   "source": [
    "# Esta funcion genera un ID hash con la suma de la latitud y la longitud, luego chequea que no haya duplicados.\n",
    "# En caso de haber duplicados, elimina el duplicado de menor valor en la columna 'avg_rating'\n",
    "\n",
    "def generate_hash(latitude, longitude):\n",
    "    hash_input = str(float(latitude) + float(longitude))\n",
    "    hash_object = hashlib.md5(hash_input.encode())\n",
    "    return hash_object.hexdigest()\n",
    "\n",
    "def check_duplicates_hash(df, id_column, avg_rating_column):\n",
    "    \n",
    "    df_ordenado = df.sort_values(by=avg_rating_column)\n",
    "    df_sin_duplicados = df_ordenado.drop_duplicates(subset=id_column, keep='first')\n",
    "    \n",
    "    return df_sin_duplicados\n"
   ]
  },
  {
   "cell_type": "code",
   "execution_count": 17,
   "metadata": {},
   "outputs": [],
   "source": [
    "# Esta funcion genera la tabla de horarios en un nuevo dataframe\n",
    "\n",
    "def generate_new_dataframe_with_hours(df):\n",
    "    \n",
    "    new_rows = []\n",
    "    for index, row in df.iterrows():\n",
    "        id_hash = row['id_hash']\n",
    "        hours = row['hours']\n",
    "        if hours:\n",
    "            for day_info in hours:\n",
    "                day_name = day_info[0]\n",
    "                times = day_info[1].split('–')\n",
    "                open_time = times[0]\n",
    "                close_time = times[1] if len(times) > 1 else None\n",
    "                new_rows.append({\n",
    "                    'id_hash': id_hash,\n",
    "                    'day_name': day_name,\n",
    "                    'open_time': open_time,\n",
    "                    'close_time': close_time\n",
    "                })\n",
    "    new_df = pd.DataFrame(new_rows)\n",
    "    df.drop('hours', axis=1, inplace=True)\n",
    "    new_df = new_df.rename(columns={'id_hash': 'shop_id'})\n",
    "    column_order = ['day_name', 'open_time', 'close_time', 'shop_id']\n",
    "    new_df = new_df.reindex(columns=column_order)\n",
    "\n",
    "    return new_df"
   ]
  },
  {
   "cell_type": "code",
   "execution_count": 18,
   "metadata": {},
   "outputs": [],
   "source": [
    "# Esta funcion convierte las columnas de horarios en formato 24hs\n",
    "\n",
    "def convert_to_24hr(time_str):\n",
    "\n",
    "    if pd.isnull(time_str):\n",
    "        return np.nan\n",
    "    time_str = time_str.replace('AM', '').replace('PM', '')\n",
    "    if ':' in time_str:\n",
    "        hours, minutes = map(int, time_str.split(':'))\n",
    "        if 'PM' in time_str and hours != 12:\n",
    "            hours += 12\n",
    "    elif time_str.strip().lower() == 'closed':\n",
    "        return np.nan\n",
    "    else:\n",
    "        try:\n",
    "            hours = int(time_str)\n",
    "            minutes = 0\n",
    "        except ValueError:\n",
    "            return np.nan\n",
    "            \n",
    "    return f\"{hours:02d}:{minutes:02d}\""
   ]
  },
  {
   "cell_type": "code",
   "execution_count": 2,
   "metadata": {},
   "outputs": [],
   "source": [
    "# Esta funcion genera la dimension location para el Dw y corrije nombres y posiciones de columna \n",
    "\n",
    "def generate_location_dataframe(df):\n",
    "    \n",
    "    location_df = df[['id_hash', 'estado', 'latitude', 'longitude', 'codigo_postal', 'ciudad', 'direccion']].copy()\n",
    "    location_df.columns = ['id_shop', 'state', 'latitude', 'longitude', 'postal_code', 'city', 'address']\n",
    "    df.drop(['latitude', 'longitude', 'estado', 'codigo_postal', 'ciudad', 'direccion'], axis=1, inplace=True)\n",
    "    location_df['postal_code'] = location_df['postal_code'].str.replace(r'\\D', '', regex=True)\n",
    "    location_df['postal_code'] = np.where(location_df['postal_code'] != '', location_df['postal_code'], None)\n",
    "    location_df['postal_code'] = location_df['postal_code'].astype('Int64')\n",
    "    location_df['id_shop'] = location_df['id_shop'].astype(str)\n",
    "    \n",
    "    return location_df"
   ]
  },
  {
   "cell_type": "code",
   "execution_count": 20,
   "metadata": {},
   "outputs": [],
   "source": [
    "# Esta funcion genera una nueva dimension de categorias para el dw\n",
    "\n",
    "def extract_categories(df):\n",
    "    \n",
    "    new_df = df[['category', 'id_hash']].copy()\n",
    "    new_df['category'] = new_df['category'].apply(lambda x: x.replace(',', '').split())\n",
    "    new_df = new_df.explode('category')\n",
    "    new_df.reset_index(drop=True, inplace=True)\n",
    "\n",
    "    return new_df"
   ]
  },
  {
   "cell_type": "code",
   "execution_count": 21,
   "metadata": {},
   "outputs": [],
   "source": [
    "# Esta funcion normaliza la dimension category_shop, cambiando la categoria por el id de la categoria.\n",
    "# luego se queda solo con las categorias con ID\n",
    "\n",
    "def process_category_shop(df, id_category):\n",
    "\n",
    "    df = df.sort_values(by='id_hash')\n",
    "    df['category'] = df['category'].str.title()\n",
    "    id_category['category'] = id_category['category'].str.title()\n",
    "    df = df.merge(id_category, on='category', how='left')\n",
    "    df = df.dropna(subset=['id_category'])\n",
    "    df['id_category'] = df['id_category'].astype('int64')\n",
    "    df = df.drop(columns=['category']).rename(columns={'id_hash': 'id_shop'})\n",
    "    df = df.reset_index(drop=True)\n",
    "    \n",
    "    return df"
   ]
  },
  {
   "cell_type": "code",
   "execution_count": 22,
   "metadata": {},
   "outputs": [],
   "source": [
    "# Esta funcion prepara el dataframe shops para el DW\n",
    "\n",
    "def transform_shops(df):\n",
    "\n",
    "    df['source'] = 2\n",
    "    df = df.rename(columns={\n",
    "        'id_hash': 'id_shop',\n",
    "        'nombre': 'name',\n",
    "        'avg_rating': 'stars',\n",
    "        'gmap_id': 'id_source'\n",
    "    })\n",
    "    column_order = ['id_shop', 'name', 'stars', 'source', 'id_source']\n",
    "    df = df[column_order]\n",
    "    \n",
    "    return df\n"
   ]
  },
  {
   "cell_type": "code",
   "execution_count": 23,
   "metadata": {
    "tags": []
   },
   "outputs": [],
   "source": [
    "# esta funcion ejecula las func para que desde los archivos json podamos obtener un dataframe\n",
    "# con la columna adress, discriminada en varias columnas\n",
    "# y filtrada por las ciudades que nos interesan\n",
    "\n",
    "def process_and_concat(json_list):\n",
    "    \n",
    "    dfs = []\n",
    "    for json_file in json_list:\n",
    "        df = json_to_df(json_file)\n",
    "        df = split_address_column(df)\n",
    "        df = filter_cities(df)\n",
    "        dfs.append(df)\n",
    "    concatenated_df = pd.concat(dfs, ignore_index=True)\n",
    "\n",
    "    return concatenated_df"
   ]
  },
  {
   "cell_type": "code",
   "execution_count": 24,
   "metadata": {
    "tags": []
   },
   "outputs": [],
   "source": [
    "# Esta funcion procesa las funciones de normalizacion\n",
    "\n",
    "def normalization_functions(df):\n",
    "    \n",
    "    df = remove_duplicates(df)\n",
    "    df = remove_null_category(df)\n",
    "    df = remove_closed_shops(df)\n",
    "    df['category'] = df['category'].apply(lambda x: ', '.join(x) if isinstance(x, list) else x)\n",
    "    df = filter_by_keywords(df, filter_gastronomic)\n",
    "    df['id_hash'] = df.apply(lambda row: generate_hash(row['latitude'], row['longitude']), axis=1)\n",
    "    df = check_duplicates_hash(df, id_column='id_hash', avg_rating_column='avg_rating')\n",
    "    df = df.reset_index(drop=True)\n",
    "\n",
    "    return df"
   ]
  },
  {
   "cell_type": "code",
   "execution_count": 25,
   "metadata": {
    "tags": []
   },
   "outputs": [],
   "source": [
    "# Genero el dataframe inicial\n",
    "\n",
    "google_shops = process_and_concat(json_list) "
   ]
  },
  {
   "cell_type": "code",
   "execution_count": 65,
   "metadata": {},
   "outputs": [],
   "source": [
    "# genero df solo con los locales gastronomicos y hoteleros\n",
    "\n",
    "google_shops_gastronomy = normalization_functions(google_shops)"
   ]
  },
  {
   "cell_type": "code",
   "execution_count": 66,
   "metadata": {},
   "outputs": [
    {
     "name": "stdout",
     "output_type": "stream",
     "text": [
      "<class 'pandas.core.frame.DataFrame'>\n",
      "RangeIndex: 34244 entries, 0 to 34243\n",
      "Data columns (total 4 columns):\n",
      " #   Column      Non-Null Count  Dtype \n",
      "---  ------      --------------  ----- \n",
      " 0   day_name    34244 non-null  object\n",
      " 1   open_time   29269 non-null  object\n",
      " 2   close_time  29269 non-null  object\n",
      " 3   shop_id     34244 non-null  object\n",
      "dtypes: object(4)\n",
      "memory usage: 1.0+ MB\n"
     ]
    }
   ],
   "source": [
    "# Genero la nueva dimension del DW day_time\n",
    "\n",
    "day_time_g = generate_new_dataframe_with_hours(google_shops_gastronomy)\n",
    "day_time_g['open_time'] = day_time_g['open_time'].apply(convert_to_24hr)\n",
    "day_time_g['close_time'] = day_time_g['close_time'].apply(convert_to_24hr)\n",
    "\n",
    "day_time_g.to_csv(r\"datasets\\dataw\\day_time_g.csv\", sep=';', index=False)\n",
    "day_time_g.info()"
   ]
  },
  {
   "cell_type": "code",
   "execution_count": 67,
   "metadata": {},
   "outputs": [
    {
     "data": {
      "text/html": [
       "<div>\n",
       "<style scoped>\n",
       "    .dataframe tbody tr th:only-of-type {\n",
       "        vertical-align: middle;\n",
       "    }\n",
       "\n",
       "    .dataframe tbody tr th {\n",
       "        vertical-align: top;\n",
       "    }\n",
       "\n",
       "    .dataframe thead th {\n",
       "        text-align: right;\n",
       "    }\n",
       "</style>\n",
       "<table border=\"1\" class=\"dataframe\">\n",
       "  <thead>\n",
       "    <tr style=\"text-align: right;\">\n",
       "      <th></th>\n",
       "      <th>day_name</th>\n",
       "      <th>open_time</th>\n",
       "      <th>close_time</th>\n",
       "      <th>shop_id</th>\n",
       "    </tr>\n",
       "  </thead>\n",
       "  <tbody>\n",
       "    <tr>\n",
       "      <th>0</th>\n",
       "      <td>Friday</td>\n",
       "      <td>09:00</td>\n",
       "      <td>05:00</td>\n",
       "      <td>d4cbb312e58f20251b83cf3157d37b83</td>\n",
       "    </tr>\n",
       "    <tr>\n",
       "      <th>1</th>\n",
       "      <td>Saturday</td>\n",
       "      <td>09:00</td>\n",
       "      <td>05:00</td>\n",
       "      <td>d4cbb312e58f20251b83cf3157d37b83</td>\n",
       "    </tr>\n",
       "    <tr>\n",
       "      <th>2</th>\n",
       "      <td>Sunday</td>\n",
       "      <td>09:00</td>\n",
       "      <td>05:00</td>\n",
       "      <td>d4cbb312e58f20251b83cf3157d37b83</td>\n",
       "    </tr>\n",
       "    <tr>\n",
       "      <th>3</th>\n",
       "      <td>Monday</td>\n",
       "      <td>09:00</td>\n",
       "      <td>05:00</td>\n",
       "      <td>d4cbb312e58f20251b83cf3157d37b83</td>\n",
       "    </tr>\n",
       "    <tr>\n",
       "      <th>4</th>\n",
       "      <td>Tuesday</td>\n",
       "      <td>09:00</td>\n",
       "      <td>05:00</td>\n",
       "      <td>d4cbb312e58f20251b83cf3157d37b83</td>\n",
       "    </tr>\n",
       "  </tbody>\n",
       "</table>\n",
       "</div>"
      ],
      "text/plain": [
       "   day_name open_time close_time                           shop_id\n",
       "0    Friday     09:00      05:00  d4cbb312e58f20251b83cf3157d37b83\n",
       "1  Saturday     09:00      05:00  d4cbb312e58f20251b83cf3157d37b83\n",
       "2    Sunday     09:00      05:00  d4cbb312e58f20251b83cf3157d37b83\n",
       "3    Monday     09:00      05:00  d4cbb312e58f20251b83cf3157d37b83\n",
       "4   Tuesday     09:00      05:00  d4cbb312e58f20251b83cf3157d37b83"
      ]
     },
     "execution_count": 67,
     "metadata": {},
     "output_type": "execute_result"
    }
   ],
   "source": [
    "day_time_g.head()"
   ]
  },
  {
   "cell_type": "code",
   "execution_count": 68,
   "metadata": {},
   "outputs": [
    {
     "name": "stdout",
     "output_type": "stream",
     "text": [
      "<class 'pandas.core.frame.DataFrame'>\n",
      "RangeIndex: 5803 entries, 0 to 5802\n",
      "Data columns (total 7 columns):\n",
      " #   Column       Non-Null Count  Dtype  \n",
      "---  ------       --------------  -----  \n",
      " 0   id_shop      5803 non-null   object \n",
      " 1   state        5803 non-null   object \n",
      " 2   latitude     5803 non-null   float64\n",
      " 3   longitude    5803 non-null   float64\n",
      " 4   postal_code  5800 non-null   Int64  \n",
      " 5   city         5803 non-null   object \n",
      " 6   adress       5803 non-null   object \n",
      "dtypes: Int64(1), float64(2), object(4)\n",
      "memory usage: 323.1+ KB\n"
     ]
    }
   ],
   "source": [
    "# Genero la nueva dimension de DW location\n",
    "\n",
    "location_g = generate_location_dataframe(google_shops_gastronomy)\n",
    "location_g.to_csv(r\"datasets\\dataw\\location_g.csv\", sep=';', index=False)\n",
    "location_g.info()"
   ]
  },
  {
   "cell_type": "code",
   "execution_count": 69,
   "metadata": {},
   "outputs": [
    {
     "data": {
      "text/html": [
       "<div>\n",
       "<style scoped>\n",
       "    .dataframe tbody tr th:only-of-type {\n",
       "        vertical-align: middle;\n",
       "    }\n",
       "\n",
       "    .dataframe tbody tr th {\n",
       "        vertical-align: top;\n",
       "    }\n",
       "\n",
       "    .dataframe thead th {\n",
       "        text-align: right;\n",
       "    }\n",
       "</style>\n",
       "<table border=\"1\" class=\"dataframe\">\n",
       "  <thead>\n",
       "    <tr style=\"text-align: right;\">\n",
       "      <th></th>\n",
       "      <th>id_shop</th>\n",
       "      <th>state</th>\n",
       "      <th>latitude</th>\n",
       "      <th>longitude</th>\n",
       "      <th>postal_code</th>\n",
       "      <th>city</th>\n",
       "      <th>adress</th>\n",
       "    </tr>\n",
       "  </thead>\n",
       "  <tbody>\n",
       "    <tr>\n",
       "      <th>0</th>\n",
       "      <td>d86aef7d13e277917b5323e437352cd3</td>\n",
       "      <td>FL</td>\n",
       "      <td>25.777883</td>\n",
       "      <td>-80.406450</td>\n",
       "      <td>33182</td>\n",
       "      <td>Miami</td>\n",
       "      <td>12976 NW 9th St</td>\n",
       "    </tr>\n",
       "    <tr>\n",
       "      <th>1</th>\n",
       "      <td>769f91eacf53036927de048fb4874d25</td>\n",
       "      <td>FL</td>\n",
       "      <td>25.775277</td>\n",
       "      <td>-80.188582</td>\n",
       "      <td>33132</td>\n",
       "      <td>Miami</td>\n",
       "      <td>19100 NE 3rd Ave</td>\n",
       "    </tr>\n",
       "    <tr>\n",
       "      <th>2</th>\n",
       "      <td>90f3c5b2f79b3eba1be81e46518dd5fe</td>\n",
       "      <td>NV</td>\n",
       "      <td>36.147183</td>\n",
       "      <td>-115.187865</td>\n",
       "      <td>89102</td>\n",
       "      <td>Las Vegas</td>\n",
       "      <td>2216 Plaza Del Prado</td>\n",
       "    </tr>\n",
       "    <tr>\n",
       "      <th>3</th>\n",
       "      <td>f1b3b66602977f1c653f7cb0c5d6b6cf</td>\n",
       "      <td>NV</td>\n",
       "      <td>36.165312</td>\n",
       "      <td>-115.153391</td>\n",
       "      <td>89155</td>\n",
       "      <td>Las Vegas</td>\n",
       "      <td>500 S Grand Central Pkwy</td>\n",
       "    </tr>\n",
       "    <tr>\n",
       "      <th>4</th>\n",
       "      <td>d4cbb312e58f20251b83cf3157d37b83</td>\n",
       "      <td>NV</td>\n",
       "      <td>36.195477</td>\n",
       "      <td>-115.248844</td>\n",
       "      <td>89128</td>\n",
       "      <td>Las Vegas</td>\n",
       "      <td>7175 W Lake Mead Blvd</td>\n",
       "    </tr>\n",
       "  </tbody>\n",
       "</table>\n",
       "</div>"
      ],
      "text/plain": [
       "                            id_shop state   latitude   longitude  postal_code       city                    adress\n",
       "0  d86aef7d13e277917b5323e437352cd3    FL  25.777883  -80.406450        33182      Miami           12976 NW 9th St\n",
       "1  769f91eacf53036927de048fb4874d25    FL  25.775277  -80.188582        33132      Miami          19100 NE 3rd Ave\n",
       "2  90f3c5b2f79b3eba1be81e46518dd5fe    NV  36.147183 -115.187865        89102  Las Vegas      2216 Plaza Del Prado\n",
       "3  f1b3b66602977f1c653f7cb0c5d6b6cf    NV  36.165312 -115.153391        89155  Las Vegas  500 S Grand Central Pkwy\n",
       "4  d4cbb312e58f20251b83cf3157d37b83    NV  36.195477 -115.248844        89128  Las Vegas     7175 W Lake Mead Blvd"
      ]
     },
     "execution_count": 69,
     "metadata": {},
     "output_type": "execute_result"
    }
   ],
   "source": [
    "location_g.head()"
   ]
  },
  {
   "cell_type": "code",
   "execution_count": 70,
   "metadata": {},
   "outputs": [
    {
     "name": "stdout",
     "output_type": "stream",
     "text": [
      "<class 'pandas.core.frame.DataFrame'>\n",
      "RangeIndex: 9485 entries, 0 to 9484\n",
      "Data columns (total 2 columns):\n",
      " #   Column       Non-Null Count  Dtype \n",
      "---  ------       --------------  ----- \n",
      " 0   id_shop      9485 non-null   object\n",
      " 1   id_category  9485 non-null   int64 \n",
      "dtypes: int64(1), object(1)\n",
      "memory usage: 148.3+ KB\n"
     ]
    }
   ],
   "source": [
    "# Genero la nueva dimension de DW category_shop\n",
    "\n",
    "category_shop_g = extract_categories(google_shops_gastronomy)\n",
    "category_shop_g = process_category_shop(category_shop_g, id_category)\n",
    "category_shop_g.to_csv(r\"datasets\\dataw\\category_shop_g.csv\", sep=';', index=False)\n",
    "category_shop_g.info()"
   ]
  },
  {
   "cell_type": "code",
   "execution_count": 71,
   "metadata": {},
   "outputs": [
    {
     "data": {
      "text/html": [
       "<div>\n",
       "<style scoped>\n",
       "    .dataframe tbody tr th:only-of-type {\n",
       "        vertical-align: middle;\n",
       "    }\n",
       "\n",
       "    .dataframe tbody tr th {\n",
       "        vertical-align: top;\n",
       "    }\n",
       "\n",
       "    .dataframe thead th {\n",
       "        text-align: right;\n",
       "    }\n",
       "</style>\n",
       "<table border=\"1\" class=\"dataframe\">\n",
       "  <thead>\n",
       "    <tr style=\"text-align: right;\">\n",
       "      <th></th>\n",
       "      <th>id_shop</th>\n",
       "      <th>id_category</th>\n",
       "    </tr>\n",
       "  </thead>\n",
       "  <tbody>\n",
       "    <tr>\n",
       "      <th>0</th>\n",
       "      <td>001d1c3dc79b1ea635c4bacbd9f75c96</td>\n",
       "      <td>23</td>\n",
       "    </tr>\n",
       "    <tr>\n",
       "      <th>1</th>\n",
       "      <td>001d1c3dc79b1ea635c4bacbd9f75c96</td>\n",
       "      <td>20</td>\n",
       "    </tr>\n",
       "    <tr>\n",
       "      <th>2</th>\n",
       "      <td>001d1c3dc79b1ea635c4bacbd9f75c96</td>\n",
       "      <td>20</td>\n",
       "    </tr>\n",
       "    <tr>\n",
       "      <th>3</th>\n",
       "      <td>001d1c3dc79b1ea635c4bacbd9f75c96</td>\n",
       "      <td>20</td>\n",
       "    </tr>\n",
       "    <tr>\n",
       "      <th>4</th>\n",
       "      <td>001d1c3dc79b1ea635c4bacbd9f75c96</td>\n",
       "      <td>23</td>\n",
       "    </tr>\n",
       "  </tbody>\n",
       "</table>\n",
       "</div>"
      ],
      "text/plain": [
       "                            id_shop  id_category\n",
       "0  001d1c3dc79b1ea635c4bacbd9f75c96           23\n",
       "1  001d1c3dc79b1ea635c4bacbd9f75c96           20\n",
       "2  001d1c3dc79b1ea635c4bacbd9f75c96           20\n",
       "3  001d1c3dc79b1ea635c4bacbd9f75c96           20\n",
       "4  001d1c3dc79b1ea635c4bacbd9f75c96           23"
      ]
     },
     "execution_count": 71,
     "metadata": {},
     "output_type": "execute_result"
    }
   ],
   "source": [
    "category_shop_g.head()"
   ]
  },
  {
   "cell_type": "code",
   "execution_count": 72,
   "metadata": {},
   "outputs": [
    {
     "name": "stdout",
     "output_type": "stream",
     "text": [
      "<class 'pandas.core.frame.DataFrame'>\n",
      "RangeIndex: 5803 entries, 0 to 5802\n",
      "Data columns (total 5 columns):\n",
      " #   Column     Non-Null Count  Dtype  \n",
      "---  ------     --------------  -----  \n",
      " 0   id_shop    5803 non-null   object \n",
      " 1   name       5803 non-null   object \n",
      " 2   stars      5803 non-null   float64\n",
      " 3   source     5803 non-null   int64  \n",
      " 4   id_source  5803 non-null   object \n",
      "dtypes: float64(1), int64(1), object(3)\n",
      "memory usage: 226.8+ KB\n"
     ]
    }
   ],
   "source": [
    "# Genero la nueva dimension de DW shops\n",
    "\n",
    "shops_g = transform_shops(google_shops_gastronomy)\n",
    "shops_g.to_csv(r\"datasets\\dataw\\shops_g.csv\", sep=';', index=False)\n",
    "shops_g.info()"
   ]
  },
  {
   "cell_type": "code",
   "execution_count": 73,
   "metadata": {},
   "outputs": [
    {
     "name": "stdout",
     "output_type": "stream",
     "text": [
      "<class 'pandas.core.frame.DataFrame'>\n",
      "RangeIndex: 5803 entries, 0 to 5802\n",
      "Data columns (total 5 columns):\n",
      " #   Column     Non-Null Count  Dtype  \n",
      "---  ------     --------------  -----  \n",
      " 0   id_shop    5803 non-null   object \n",
      " 1   name       5803 non-null   object \n",
      " 2   stars      5803 non-null   float64\n",
      " 3   source     5803 non-null   int64  \n",
      " 4   id_source  5803 non-null   object \n",
      "dtypes: float64(1), int64(1), object(3)\n",
      "memory usage: 226.8+ KB\n"
     ]
    }
   ],
   "source": [
    "shops_g.info()"
   ]
  }
 ],
 "metadata": {
  "kernelspec": {
   "display_name": "Python 3 (ipykernel)",
   "language": "python",
   "name": "python3"
  },
  "language_info": {
   "codemirror_mode": {
    "name": "ipython",
    "version": 3
   },
   "file_extension": ".py",
   "mimetype": "text/x-python",
   "name": "python",
   "nbconvert_exporter": "python",
   "pygments_lexer": "ipython3",
   "version": "3.11.3"
  }
 },
 "nbformat": 4,
 "nbformat_minor": 4
}
